{
 "cells": [
  {
   "cell_type": "markdown",
   "metadata": {},
   "source": [
    "## Epsilon Greedy Selection"
   ]
  },
  {
   "cell_type": "code",
   "execution_count": 1,
   "metadata": {},
   "outputs": [],
   "source": [
    "import gym\n",
    "import numpy as np\n",
    "import random\n",
    "import pandas as pd\n",
    "from matplotlib import pyplot as plot\n",
    "%matplotlib inline"
   ]
  },
  {
   "cell_type": "code",
   "execution_count": 2,
   "metadata": {},
   "outputs": [],
   "source": [
    "from multi_armed_bandit import MultiArmedBandit"
   ]
  },
  {
   "cell_type": "code",
   "execution_count": 3,
   "metadata": {},
   "outputs": [],
   "source": [
    "dataset = pd.read_csv(\"Lawyer_search_engine.csv\")"
   ]
  },
  {
   "cell_type": "code",
   "execution_count": 4,
   "metadata": {},
   "outputs": [
    {
     "data": {
      "text/html": [
       "<div>\n",
       "<style scoped>\n",
       "    .dataframe tbody tr th:only-of-type {\n",
       "        vertical-align: middle;\n",
       "    }\n",
       "\n",
       "    .dataframe tbody tr th {\n",
       "        vertical-align: top;\n",
       "    }\n",
       "\n",
       "    .dataframe thead th {\n",
       "        text-align: right;\n",
       "    }\n",
       "</style>\n",
       "<table border=\"1\" class=\"dataframe\">\n",
       "  <thead>\n",
       "    <tr style=\"text-align: right;\">\n",
       "      <th></th>\n",
       "      <th>Sr. No.</th>\n",
       "      <th>Lawyer Profession</th>\n",
       "      <th>Number of Searches</th>\n",
       "    </tr>\n",
       "  </thead>\n",
       "  <tbody>\n",
       "    <tr>\n",
       "      <th>0</th>\n",
       "      <td>1</td>\n",
       "      <td>Personal Injury</td>\n",
       "      <td>198048</td>\n",
       "    </tr>\n",
       "    <tr>\n",
       "      <th>1</th>\n",
       "      <td>2</td>\n",
       "      <td>Estate Planning</td>\n",
       "      <td>203274</td>\n",
       "    </tr>\n",
       "    <tr>\n",
       "      <th>2</th>\n",
       "      <td>3</td>\n",
       "      <td>Bankruptcy</td>\n",
       "      <td>253356</td>\n",
       "    </tr>\n",
       "    <tr>\n",
       "      <th>3</th>\n",
       "      <td>4</td>\n",
       "      <td>Intellectual Property</td>\n",
       "      <td>285372</td>\n",
       "    </tr>\n",
       "    <tr>\n",
       "      <th>4</th>\n",
       "      <td>5</td>\n",
       "      <td>Employment</td>\n",
       "      <td>181151</td>\n",
       "    </tr>\n",
       "  </tbody>\n",
       "</table>\n",
       "</div>"
      ],
      "text/plain": [
       "   Sr. No.      Lawyer Profession  Number of Searches\n",
       "0        1        Personal Injury              198048\n",
       "1        2        Estate Planning              203274\n",
       "2        3             Bankruptcy              253356\n",
       "3        4  Intellectual Property              285372\n",
       "4        5             Employment              181151"
      ]
     },
     "execution_count": 4,
     "metadata": {},
     "output_type": "execute_result"
    }
   ],
   "source": [
    "dataset.head()"
   ]
  },
  {
   "cell_type": "code",
   "execution_count": 5,
   "metadata": {},
   "outputs": [
    {
     "name": "stdout",
     "output_type": "stream",
     "text": [
      "Column Name: Sr. No. : <class 'numpy.int64'>\n",
      "Column Name: Lawyer Profession : <class 'str'>\n",
      "Column Name: Number of Searches : <class 'numpy.int64'>\n"
     ]
    }
   ],
   "source": [
    "# Checking column data types\n",
    "for col in dataset.columns:\n",
    "    print('Column Name:', col,':', type(dataset[col][0]))"
   ]
  },
  {
   "cell_type": "code",
   "execution_count": 6,
   "metadata": {},
   "outputs": [],
   "source": [
    "# Calculating Probabilities (Rewards)\n",
    "x0 = int(dataset['Number of Searches'].iloc[0])\n",
    "x1 = int(dataset['Number of Searches'].iloc[1])\n",
    "x2 = int(dataset['Number of Searches'].iloc[2])\n",
    "x3 = int(dataset['Number of Searches'].iloc[3])\n",
    "x4 = int(dataset['Number of Searches'].iloc[4])\n",
    "x5 = int(dataset['Number of Searches'].iloc[5])\n",
    "x6 = int(dataset['Number of Searches'].iloc[6])\n",
    "x7 = int(dataset['Number of Searches'].iloc[7])\n",
    "x8 = int(dataset['Number of Searches'].iloc[8])\n",
    "x9 = int(dataset['Number of Searches'].iloc[9])\n",
    "x10 = int(dataset['Number of Searches'].iloc[10])\n",
    "x11 = int(dataset['Number of Searches'].iloc[11])\n",
    "x12 = int(dataset['Number of Searches'].iloc[12])\n",
    "x13 = int(dataset['Number of Searches'].iloc[13])\n",
    "x14 = int(dataset['Number of Searches'].iloc[14])\n",
    "x15 = int(dataset['Number of Searches'].iloc[15])\n",
    "X = x0+x1+x2+x3+x4+x5+x6+x7+x8+x9+x10+x11+x12+x13+x14+x15"
   ]
  },
  {
   "cell_type": "code",
   "execution_count": 7,
   "metadata": {},
   "outputs": [],
   "source": [
    "def create_bandit(reward_dist):\n",
    "    if abs(sum(reward_dist )-1 ) > 0.1e-2:\n",
    "        print(\"Adjust the reward distribution to sum to one.\")\n",
    "    env = MultiArmedBandit(reward_probability_dist=probabilities_of_searches)\n",
    "    number_of_professions_of_lawyers= len(probabilities_of_searches)\n",
    "    return env,number_of_professions_of_lawyers"
   ]
  },
  {
   "cell_type": "code",
   "execution_count": 8,
   "metadata": {},
   "outputs": [
    {
     "name": "stdout",
     "output_type": "stream",
     "text": [
      "The total number of Lawyer type is: 16\n"
     ]
    }
   ],
   "source": [
    "tot_episodes=800\n",
    "tot_steps =400\n",
    "probabilities_of_searches = [x0/X,x1/X,x2/X,x3/X,x4/X,x5/X,x6/X,x7/X,x8/X,x9/X,x10/X,x11/X,x12/X,x13/X,x14/X,x15/X]\n",
    "env,tot_number_of_professions_of_lawyers = create_bandit(probabilities_of_searches)\n",
    "tot_number_of_professions_of_lawyers = len(probabilities_of_searches)\n",
    "print('The total number of Lawyer type is:', tot_number_of_professions_of_lawyers)\n"
   ]
  },
  {
   "cell_type": "code",
   "execution_count": 9,
   "metadata": {
    "scrolled": true
   },
   "outputs": [],
   "source": [
    "def perform_random_multiarm_bandit():\n",
    "    \n",
    "\n",
    "    average_value_function = np.zeros(tot_number_of_professions_of_lawyers)\n",
    "    cumulated_reward_list = list()\n",
    "\n",
    "\n",
    "    for episode in range(tot_episodes):\n",
    "        cumulated_reward = 0\n",
    "        reward_counter_array = np.zeros(tot_number_of_professions_of_lawyers)\n",
    "        action_counter_array = np.full(tot_number_of_professions_of_lawyers, 1.0e-5)\n",
    "        for step in range(tot_steps):\n",
    "            action = np.random.randint(low=0, high=tot_number_of_professions_of_lawyers)\n",
    "            reward = env.step(action)\n",
    "            reward_counter_array[action] += reward\n",
    "            action_counter_array[action] += 1\n",
    "            cumulated_reward += reward\n",
    "        cumulated_reward_list.append(cumulated_reward)\n",
    "        value_function = np.true_divide(reward_counter_array, action_counter_array)\n",
    "        average_value_function += value_function\n",
    "    return average_value_function,cumulated_reward_list,action_counter_array\n",
    "\n",
    "\n"
   ]
  },
  {
   "cell_type": "code",
   "execution_count": 10,
   "metadata": {},
   "outputs": [
    {
     "name": "stdout",
     "output_type": "stream",
     "text": [
      "25.4175\n"
     ]
    }
   ],
   "source": [
    "# Checking Random Rewards\n",
    "random_average_value_fn ,random_rewards,random_actions = perform_random_multiarm_bandit()\n",
    "print(np.mean(random_rewards))"
   ]
  },
  {
   "cell_type": "code",
   "execution_count": 11,
   "metadata": {},
   "outputs": [
    {
     "data": {
      "text/plain": [
       "<matplotlib.text.Text at 0x19fb9cac8d0>"
      ]
     },
     "execution_count": 11,
     "metadata": {},
     "output_type": "execute_result"
    },
    {
     "data": {
      "image/png": "[encoded data removed]",
      "text/plain": [
       "<matplotlib.figure.Figure at 0x19fb9d30eb8>"
      ]
     },
     "metadata": {},
     "output_type": "display_data"
    }
   ],
   "source": [
    "plot.title(\"Random Selection\")\n",
    "plot.bar(range(1,tot_number_of_professions_of_lawyers+1),random_actions,width =0.5)\n",
    "plot.xlabel('Type of Lawyers')\n",
    "plot.ylabel('Count')"
   ]
  },
  {
   "cell_type": "code",
   "execution_count": 12,
   "metadata": {},
   "outputs": [],
   "source": [
    "def return_greedy_action(reward_counter_array):\n",
    "    amax = np.amax(reward_counter_array)\n",
    "    indices = np.where(reward_counter_array == amax)[0]\n",
    "    action = np.random.choice(indices)\n",
    "    return action"
   ]
  },
  {
   "cell_type": "code",
   "execution_count": 15,
   "metadata": {},
   "outputs": [],
   "source": [
    "def perform_greedy_multiarm_bandit():\n",
    "\n",
    "    average_value_function = np.zeros(tot_number_of_professions_of_lawyers)\n",
    "    cumulated_reward_list = list()\n",
    "    epsilon = 0.1\n",
    "\n",
    "    for episode in range(tot_episodes):\n",
    "        cumulated_reward = 0\n",
    "        reward_counter_array = np.zeros(tot_number_of_professions_of_lawyers)\n",
    "        action_counter_array = np.full(tot_number_of_professions_of_lawyers, 1.0e-5)\n",
    "        for step in range(tot_steps):\n",
    "            action = return_greedy_action(reward_counter_array)\n",
    "            reward = env.step(action)\n",
    "            reward_counter_array[action] += reward\n",
    "            action_counter_array[action] += 1\n",
    "            cumulated_reward += reward\n",
    "        cumulated_reward_list.append(cumulated_reward)\n",
    "        value_function = np.true_divide(reward_counter_array, action_counter_array)\n",
    "        average_value_function += value_function\n",
    "    return average_value_function,cumulated_reward_list,action_counter_array"
   ]
  },
  {
   "cell_type": "code",
   "execution_count": 16,
   "metadata": {},
   "outputs": [],
   "source": [
    "greedy_average_value_fn,greedy_rewards,greedy_actions = perform_greedy_multiarm_bandit()"
   ]
  },
  {
   "cell_type": "code",
   "execution_count": 17,
   "metadata": {},
   "outputs": [
    {
     "data": {
      "text/plain": [
       "<matplotlib.text.Text at 0x19fbbee8c18>"
      ]
     },
     "execution_count": 17,
     "metadata": {},
     "output_type": "execute_result"
    },
    {
     "data": {
      "image/png": "[encoded data removed]",
      "text/plain": [
       "<matplotlib.figure.Figure at 0x19fbc1bceb8>"
      ]
     },
     "metadata": {},
     "output_type": "display_data"
    }
   ],
   "source": [
    "plot.title(\"Epsilon Greedy Selection with epsilon = 0.1\")\n",
    "plot.bar(range(1,tot_number_of_professions_of_lawyers+1),greedy_actions,width =0.5)\n",
    "plot.xlabel('Type of Lawyers')\n",
    "plot.ylabel('Count')"
   ]
  },
  {
   "cell_type": "code",
   "execution_count": 18,
   "metadata": {},
   "outputs": [
    {
     "name": "stdout",
     "output_type": "stream",
     "text": [
      "25.27875\n"
     ]
    }
   ],
   "source": [
    "print(np.mean(greedy_rewards))"
   ]
  },
  {
   "cell_type": "code",
   "execution_count": 19,
   "metadata": {},
   "outputs": [],
   "source": [
    "def return_epsilon_greedy_action(epsilon, reward_counter_array):\n",
    "    \n",
    "    tot_actions = reward_counter_array.shape[0]\n",
    "    if random.uniform(0, 1) <= epsilon:\n",
    "        action = np.random.randint(low=0, high=tot_actions)\n",
    "    else:\n",
    "        amax = np.amax(reward_counter_array)\n",
    "        indices = np.where(reward_counter_array == amax)[0]\n",
    "        action = np.random.choice(indices)\n",
    "    return action"
   ]
  },
  {
   "cell_type": "code",
   "execution_count": 20,
   "metadata": {},
   "outputs": [],
   "source": [
    "def perform_epsilon_greedy_multiarm_bandit(epsilon=0.1):\n",
    "\n",
    "    average_value_function = np.zeros(tot_number_of_professions_of_lawyers)\n",
    "    cumulated_reward_list = list()\n",
    "    \n",
    "\n",
    "    for episode in range(tot_episodes):\n",
    "        cumulated_reward = 0\n",
    "        reward_counter_array = np.zeros(tot_number_of_professions_of_lawyers)\n",
    "        action_counter_array = np.full(tot_number_of_professions_of_lawyers, 1.0e-5)\n",
    "        for step in range(tot_steps):\n",
    "\n",
    "            action = return_epsilon_greedy_action(epsilon, np.true_divide(reward_counter_array, action_counter_array))\n",
    "            reward = env.step(action)\n",
    "            reward_counter_array[action] += reward\n",
    "            action_counter_array[action] += 1\n",
    "            cumulated_reward += reward\n",
    "        cumulated_reward_list.append(cumulated_reward)\n",
    "        value_function = np.true_divide(reward_counter_array, action_counter_array)\n",
    "        average_value_function += value_function\n",
    "    return average_value_function,cumulated_reward_list,action_counter_array"
   ]
  },
  {
   "cell_type": "code",
   "execution_count": 21,
   "metadata": {},
   "outputs": [
    {
     "data": {
      "text/plain": [
       "<matplotlib.text.Text at 0x19fbc0fc1d0>"
      ]
     },
     "execution_count": 21,
     "metadata": {},
     "output_type": "execute_result"
    },
    {
     "data": {
      "image/png": "[encoded data removed]",
      "text/plain": [
       "<matplotlib.figure.Figure at 0x19fbbfd5860>"
      ]
     },
     "metadata": {},
     "output_type": "display_data"
    }
   ],
   "source": [
    "ep_greedy_average_value_fn,ep_greedy_rewards,ep_greedy_actions = perform_epsilon_greedy_multiarm_bandit(epsilon=0.1)\n",
    "plot.title(\"Epsilon Greedy Selection with epsilon = 0.1\")\n",
    "plot.bar(range(1,tot_number_of_professions_of_lawyers+1),ep_greedy_actions,width =0.5)\n",
    "plot.xlabel('Type of Lawyers')\n",
    "plot.ylabel('Count')"
   ]
  },
  {
   "cell_type": "code",
   "execution_count": 22,
   "metadata": {},
   "outputs": [
    {
     "name": "stdout",
     "output_type": "stream",
     "text": [
      "26.02375\n"
     ]
    }
   ],
   "source": [
    "print(np.mean(ep_greedy_rewards))"
   ]
  },
  {
   "cell_type": "code",
   "execution_count": 23,
   "metadata": {},
   "outputs": [
    {
     "data": {
      "text/plain": [
       "<matplotlib.text.Text at 0x19fbc14d4a8>"
      ]
     },
     "execution_count": 23,
     "metadata": {},
     "output_type": "execute_result"
    },
    {
     "data": {
      "image/png": "[encoded data removed]",
      "text/plain": [
       "<matplotlib.figure.Figure at 0x19fbbffeb38>"
      ]
     },
     "metadata": {},
     "output_type": "display_data"
    }
   ],
   "source": [
    "ep_greedy_average_value_fn,ep_greedy_rewards,ep_greedy_actions = perform_epsilon_greedy_multiarm_bandit(epsilon=0.5)\n",
    "plot.title(\"Epsilon Greedy Selection with epsilon = 0.5\")\n",
    "plot.bar(range(1,tot_number_of_professions_of_lawyers+1),ep_greedy_actions,width =0.5)\n",
    "plot.xlabel('Type of Lawyers')\n",
    "plot.ylabel('Count')"
   ]
  },
  {
   "cell_type": "code",
   "execution_count": 24,
   "metadata": {},
   "outputs": [
    {
     "name": "stdout",
     "output_type": "stream",
     "text": [
      "25.59125\n"
     ]
    }
   ],
   "source": [
    "print(np.mean(ep_greedy_rewards))"
   ]
  },
  {
   "cell_type": "code",
   "execution_count": 25,
   "metadata": {},
   "outputs": [
    {
     "data": {
      "text/plain": [
       "<matplotlib.text.Text at 0x19fbc273ac8>"
      ]
     },
     "execution_count": 25,
     "metadata": {},
     "output_type": "execute_result"
    },
    {
     "data": {
      "image/png": "[encoded data removed]",
      "text/plain": [
       "<matplotlib.figure.Figure at 0x19fbbd5ab00>"
      ]
     },
     "metadata": {},
     "output_type": "display_data"
    }
   ],
   "source": [
    "ep_greedy_average_value_fn,ep_greedy_rewards,ep_greedy_actions = perform_epsilon_greedy_multiarm_bandit(epsilon=0.9)\n",
    "plot.title(\"Epsilon Greedy Selection with epsilon = 0.9\")\n",
    "plot.bar(range(1,tot_number_of_professions_of_lawyers+1),ep_greedy_actions,width =0.5)\n",
    "plot.xlabel('Type of Lawyers')\n",
    "plot.ylabel('Count')"
   ]
  },
  {
   "cell_type": "code",
   "execution_count": 26,
   "metadata": {},
   "outputs": [
    {
     "name": "stdout",
     "output_type": "stream",
     "text": [
      "25.02375\n"
     ]
    }
   ],
   "source": [
    "print(np.mean(ep_greedy_rewards))"
   ]
  },
  {
   "cell_type": "code",
   "execution_count": 27,
   "metadata": {},
   "outputs": [
    {
     "data": {
      "text/plain": [
       "<matplotlib.text.Text at 0x19fbc35f2b0>"
      ]
     },
     "execution_count": 27,
     "metadata": {},
     "output_type": "execute_result"
    },
    {
     "data": {
      "image/png": "[encoded data removed]",
      "text/plain": [
       "<matplotlib.figure.Figure at 0x19fbc2f1e48>"
      ]
     },
     "metadata": {},
     "output_type": "display_data"
    }
   ],
   "source": [
    "ep_greedy_average_value_fn,ep_greedy_rewards,ep_greedy_actions = perform_epsilon_greedy_multiarm_bandit(epsilon=0.0)\n",
    "plot.title(\"Epsilon Greedy Selection with epsilon = 0.0\")\n",
    "plot.bar(range(1,tot_number_of_professions_of_lawyers+1),ep_greedy_actions,width =0.5)\n",
    "plot.xlabel('Type of Lawyers')\n",
    "plot.ylabel('Count')"
   ]
  },
  {
   "cell_type": "code",
   "execution_count": 28,
   "metadata": {},
   "outputs": [
    {
     "name": "stdout",
     "output_type": "stream",
     "text": [
      "25.26375\n"
     ]
    }
   ],
   "source": [
    "print(np.mean(ep_greedy_rewards))"
   ]
  }
 ],
 "metadata": {
  "kernelspec": {
   "display_name": "Python 3",
   "language": "python",
   "name": "python3"
  },
  "language_info": {
   "codemirror_mode": {
    "name": "ipython",
    "version": 3
   },
   "file_extension": ".py",
   "mimetype": "text/x-python",
   "name": "python",
   "nbconvert_exporter": "python",
   "pygments_lexer": "ipython3",
   "version": "3.6.5"
  }
 },
 "nbformat": 4,
 "nbformat_minor": 2
}
