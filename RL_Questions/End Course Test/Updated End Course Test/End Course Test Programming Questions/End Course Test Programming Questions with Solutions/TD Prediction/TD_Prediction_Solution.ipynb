{
 "cells": [
  {
   "cell_type": "markdown",
   "metadata": {},
   "source": [
    "# Since the prince has to first get the key, we will divide the task into two parts.\n",
    "\n",
    "Environment 1 will have the task of going from start to key. And environment 2 will go from key to princess.\n",
    "\n",
    "![title](Grid_World_Key.png)\n",
    "\n",
    " At any moment, Agent can take four actions - Up(^), Left(<), Down(V),right(>). <br> "
   ]
  },
  {
   "cell_type": "code",
   "execution_count": 1,
   "metadata": {},
   "outputs": [],
   "source": [
    "import numpy as np\n",
    "import matplotlib.pyplot as plt\n",
    "from gridWorldGameStart2Key import standard_gridS2K, negative_gridS2K, print_values, print_policy\n",
    "from gridWorldGameKey2Goal import standard_grid, negative_grid, print_values, print_policy\n",
    "\n",
    "SMALL_ENOUGH = 1e-3\n",
    "GAMMA = 0.9\n",
    "ALL_POSSIBLE_ACTIONS = ('U', 'D', 'L', 'R')\n",
    "ALPHA = 0.1"
   ]
  },
  {
   "cell_type": "code",
   "execution_count": 4,
   "metadata": {},
   "outputs": [],
   "source": [
    "def random_action(a, eps=0.1):\n",
    "  # epsilon-soft to ensure all states are visited\n",
    "  p = np.random.random()\n",
    "  if p < (1 - eps):\n",
    "    return a\n",
    "  else:\n",
    "    return np.random.choice(ALL_POSSIBLE_ACTIONS)"
   ]
  },
  {
   "cell_type": "code",
   "execution_count": 5,
   "metadata": {},
   "outputs": [],
   "source": [
    "def play_gameS2K(g, p):\n",
    "  # Define start point\n",
    "  s = (3, 0)\n",
    "  g.set_state(s)\n",
    "  states_and_rewards_S2K = [(s, 0)] # (state, reward) tuples\n",
    "  while not g.game_over():\n",
    "    a = p[s]\n",
    "    a = random_action(a)\n",
    "    r = g.move(a)\n",
    "    s = g.current_state()\n",
    "    states_and_rewards_S2K.append((s, r))\n",
    "  return states_and_rewards_S2K"
   ]
  },
  {
   "cell_type": "code",
   "execution_count": 6,
   "metadata": {},
   "outputs": [],
   "source": [
    "def play_gameK2G(g, p):\n",
    "  # Define start point\n",
    "  s = (4, 3)\n",
    "  g.set_state(s)\n",
    "  states_and_rewards_K2G = [(s, 0)] # list of tuples of (state, reward)\n",
    "  while not g.game_over():\n",
    "    a = p[s]\n",
    "    a = random_action(a)\n",
    "    r = g.move(a)\n",
    "    s = g.current_state()\n",
    "    states_and_rewards_K2G.append((s, r))\n",
    "  return states_and_rewards_K2G"
   ]
  },
  {
   "cell_type": "code",
   "execution_count": 7,
   "metadata": {},
   "outputs": [
    {
     "name": "stdout",
     "output_type": "stream",
     "text": [
      "rewards:\n",
      "------------------------------------------\n",
      " 0.00| 0.00|-1.00| 0.00| 0.00| 0.00| 0.00|\n",
      "------------------------------------------\n",
      " 0.00| 0.00|-1.00| 0.00| 0.00| 0.00|-1.00|\n",
      "------------------------------------------\n",
      " 0.00| 0.00| 0.00| 0.00| 0.00| 0.00| 0.00|\n",
      "------------------------------------------\n",
      " 0.00| 0.00| 0.00| 0.00| 0.00| 0.00| 0.00|\n",
      "------------------------------------------\n",
      " 0.00| 0.00| 0.00| 1.00| 0.00| 0.00| 0.00|\n",
      "------------------------------------------\n",
      "-1.00| 0.00| 0.00| 0.00| 0.00| 0.00|-1.00|\n"
     ]
    }
   ],
   "source": [
    "gridS2K = standard_gridS2K()\n",
    "\n",
    "# print rewards\n",
    "print(\"rewards:\")\n",
    "print_values(gridS2K.rewards, gridS2K)"
   ]
  },
  {
   "cell_type": "code",
   "execution_count": 8,
   "metadata": {},
   "outputs": [
    {
     "name": "stdout",
     "output_type": "stream",
     "text": [
      "rewards:\n",
      "------------------------------------------\n",
      " 0.00| 0.00|-1.00| 0.00| 0.00| 0.00| 1.00|\n",
      "------------------------------------------\n",
      " 0.00| 0.00|-1.00| 0.00| 0.00| 0.00|-1.00|\n",
      "------------------------------------------\n",
      " 0.00| 0.00| 0.00| 0.00| 0.00| 0.00| 0.00|\n",
      "------------------------------------------\n",
      " 0.00| 0.00| 0.00| 0.00| 0.00| 0.00| 0.00|\n",
      "------------------------------------------\n",
      " 0.00| 0.00| 0.00| 0.00| 0.00| 0.00| 0.00|\n",
      "------------------------------------------\n",
      "-1.00| 0.00| 0.00| 0.00| 0.00| 0.00|-1.00|\n"
     ]
    }
   ],
   "source": [
    "gridK2G = standard_grid()\n",
    "\n",
    "# print rewards\n",
    "print(\"rewards:\")\n",
    "print_values(gridK2G.rewards, gridK2G)"
   ]
  },
  {
   "cell_type": "code",
   "execution_count": 9,
   "metadata": {},
   "outputs": [
    {
     "name": "stdout",
     "output_type": "stream",
     "text": [
      "initial policy for S2K:\n",
      "------------------------------------------\n",
      "  D  |  L  |     |  D  |     |  R  |  D  |\n",
      "------------------------------------------\n",
      "  U  |     |     |  D  |     |  U  |     |\n",
      "------------------------------------------\n",
      "  R  |  R  |  R  |  R  |  R  |  U  |  U  |\n",
      "------------------------------------------\n",
      "  D  |  U  |  U  |     |  U  |  U  |  U  |\n",
      "------------------------------------------\n",
      "  R  |  R  |  R  |     |  U  |     |  U  |\n",
      "------------------------------------------\n",
      "     |  U  |     |  U  |  U  |  L  |     |\n"
     ]
    }
   ],
   "source": [
    "# state -> action\n",
    "policyS2K = {\n",
    "    (0, 0): 'D',\n",
    "    (0, 1): 'L',\n",
    "    (0, 3): 'D',\n",
    "    (0, 5): 'R',\n",
    "    (0, 6): 'D',\n",
    "    \n",
    "    (1, 0): 'U',\n",
    "    (1, 3): 'D',\n",
    "    (1, 5): 'U',\n",
    "\n",
    "    \n",
    "    (2, 0): 'R',\n",
    "    (2, 1): 'R',\n",
    "    (2, 2): 'R',\n",
    "    (2, 3): 'R',\n",
    "    (2, 4): 'R',\n",
    "    (2, 5): 'U',\n",
    "    (2, 6): 'U',\n",
    "    \n",
    "    (3, 0): 'D',\n",
    "    (3, 1): 'U',\n",
    "    (3, 2): 'U',\n",
    "    (3, 4): 'U',\n",
    "    (3, 5): 'U',\n",
    "    (3, 6): 'U',\n",
    "    \n",
    "    (4, 0): 'R',\n",
    "    (4, 1): 'R',\n",
    "    (4, 2): 'R',\n",
    "    (4, 4): 'U',\n",
    "    (4, 6): 'U',\n",
    "    \n",
    "    (5, 1): 'U',\n",
    "    (5, 3): 'U',\n",
    "    (5, 4): 'U',\n",
    "    (5, 5): 'L',\n",
    "    \n",
    "}\n",
    "# initial policy\n",
    "print(\"initial policy for S2K:\")\n",
    "print_policy(policyS2K, gridS2K)"
   ]
  },
  {
   "cell_type": "code",
   "execution_count": 25,
   "metadata": {},
   "outputs": [
    {
     "name": "stdout",
     "output_type": "stream",
     "text": [
      "initial policy for K2G:\n",
      "------------------------------------------\n",
      "  D  |  L  |     |  D  |     |  R  |     |\n",
      "------------------------------------------\n",
      "  U  |     |     |  D  |     |  U  |     |\n",
      "------------------------------------------\n",
      "  R  |  R  |  R  |  R  |  R  |  U  |  U  |\n",
      "------------------------------------------\n",
      "  U  |  U  |  U  |     |  U  |  U  |  U  |\n",
      "------------------------------------------\n",
      "  R  |  R  |  U  |  R  |  U  |     |  U  |\n",
      "------------------------------------------\n",
      "     |  U  |     |  U  |  U  |  L  |     |\n"
     ]
    }
   ],
   "source": [
    "#state -> action\n",
    "policyK2G = {\n",
    "    (0, 0): 'D',\n",
    "    (0, 1): 'L',\n",
    "    (0, 3): 'D',\n",
    "    (0, 5): 'R',\n",
    "    \n",
    "    (1, 0): 'U',\n",
    "    (1, 3): 'D',\n",
    "    (1, 5): 'U',\n",
    "\n",
    "    \n",
    "    (2, 0): 'R',\n",
    "    (2, 1): 'R',\n",
    "    (2, 2): 'R',\n",
    "    (2, 3): 'R',\n",
    "    (2, 4): 'R',\n",
    "    (2, 5): 'U',\n",
    "    (2, 6): 'U',\n",
    "    \n",
    "    (3, 0): 'U',\n",
    "    (3, 1): 'U',\n",
    "    (3, 2): 'U',\n",
    "    (3, 4): 'U',\n",
    "    (3, 5): 'U',\n",
    "    (3, 6): 'U',\n",
    "    \n",
    "    (4, 0): 'R',\n",
    "    (4, 1): 'R',\n",
    "    (4, 2): 'U',\n",
    "    (4, 3): 'R',\n",
    "    (4, 4): 'U',\n",
    "    (4, 6): 'U',\n",
    "    \n",
    "    (5, 1): 'U',\n",
    "    (5, 3): 'U',\n",
    "    (5, 4): 'U',\n",
    "    (5, 5): 'L',\n",
    "    \n",
    "}\n",
    "# initial policy\n",
    "print(\"initial policy for K2G:\")\n",
    "print_policy(policyK2G, gridK2G)"
   ]
  },
  {
   "cell_type": "code",
   "execution_count": 11,
   "metadata": {},
   "outputs": [
    {
     "name": "stdout",
     "output_type": "stream",
     "text": [
      "------------------------------------------\n",
      " 0.00| 0.00| 0.00| 0.00| 0.00| 0.00| 0.00|\n",
      "------------------------------------------\n",
      " 0.00| 0.00| 0.00| 0.00| 0.00| 0.00| 0.00|\n",
      "------------------------------------------\n",
      " 0.00| 0.00| 0.00| 0.00| 0.00| 0.00| 0.00|\n",
      "------------------------------------------\n",
      " 0.00| 0.00| 0.00| 0.00| 0.00| 0.00| 0.00|\n",
      "------------------------------------------\n",
      " 0.00| 0.00| 0.00| 0.00| 0.00| 0.00| 0.00|\n",
      "------------------------------------------\n",
      " 0.00| 0.00| 0.00| 0.00| 0.00| 0.00| 0.00|\n"
     ]
    }
   ],
   "source": [
    "# initialize values for S2K\n",
    "V = {}\n",
    "states = gridS2K.all_states()\n",
    "for s in states:\n",
    "  V[s] = 0\n",
    "  \n",
    "# initial value for all states in grid\n",
    "print_values(V, gridS2K)"
   ]
  },
  {
   "cell_type": "code",
   "execution_count": 12,
   "metadata": {},
   "outputs": [
    {
     "name": "stdout",
     "output_type": "stream",
     "text": [
      "------------------------------------------\n",
      " 0.00| 0.00| 0.00| 0.00| 0.00| 0.00| 0.00|\n",
      "------------------------------------------\n",
      " 0.00| 0.00| 0.00| 0.00| 0.00| 0.00| 0.00|\n",
      "------------------------------------------\n",
      " 0.00| 0.00| 0.00| 0.00| 0.00| 0.00| 0.00|\n",
      "------------------------------------------\n",
      " 0.00| 0.00| 0.00| 0.00| 0.00| 0.00| 0.00|\n",
      "------------------------------------------\n",
      " 0.00| 0.00| 0.00| 0.00| 0.00| 0.00| 0.00|\n",
      "------------------------------------------\n",
      " 0.00| 0.00| 0.00| 0.00| 0.00| 0.00| 0.00|\n"
     ]
    }
   ],
   "source": [
    "# initialize values for K2G\n",
    "V = {}\n",
    "states = gridK2G.all_states()\n",
    "for s in states:\n",
    "  V[s] = 0\n",
    "  \n",
    "# initial value for all states in grid\n",
    "print_values(V, gridK2G)"
   ]
  },
  {
   "cell_type": "code",
   "execution_count": 14,
   "metadata": {},
   "outputs": [],
   "source": [
    "for it in range(100):\n",
    "  states_and_rewards_S2K = play_gameS2K(gridS2K, policyS2K)\n",
    "  for t in range(len(states_and_rewards_S2K) - 1):\n",
    "    s, _ = states_and_rewards_S2K[t]\n",
    "    s2, r = states_and_rewards_S2K[t+1]\n",
    "    # Updating values\n",
    "    V[s] = V[s] + ALPHA*(r + GAMMA*V[s2] - V[s])"
   ]
  },
  {
   "cell_type": "code",
   "execution_count": 15,
   "metadata": {},
   "outputs": [
    {
     "name": "stdout",
     "output_type": "stream",
     "text": [
      "final values:\n",
      "------------------------------------------\n",
      " 0.00| 0.00| 0.00| 0.00| 0.00|-0.52|-0.86|\n",
      "------------------------------------------\n",
      " 0.00| 0.00| 0.00| 0.00| 0.00|-0.31| 0.00|\n",
      "------------------------------------------\n",
      "-0.00|-0.00|-0.00|-0.01|-0.03|-0.10| 0.00|\n",
      "------------------------------------------\n",
      " 0.67|-0.00|-0.00| 0.00|-0.00| 0.00| 0.00|\n",
      "------------------------------------------\n",
      " 0.75| 0.84| 0.94| 0.00| 0.00| 0.00| 0.00|\n",
      "------------------------------------------\n",
      " 0.00| 0.17| 0.00| 0.00| 0.00| 0.00| 0.00|\n",
      "final policy:\n",
      "------------------------------------------\n",
      "  D  |  L  |     |  D  |     |  R  |  D  |\n",
      "------------------------------------------\n",
      "  U  |     |     |  D  |     |  U  |     |\n",
      "------------------------------------------\n",
      "  R  |  R  |  R  |  R  |  R  |  U  |  U  |\n",
      "------------------------------------------\n",
      "  D  |  U  |  U  |     |  U  |  U  |  U  |\n",
      "------------------------------------------\n",
      "  R  |  R  |  R  |     |  U  |     |  U  |\n",
      "------------------------------------------\n",
      "     |  U  |     |  U  |  U  |  L  |     |\n"
     ]
    }
   ],
   "source": [
    "print(\"final values:\")\n",
    "print_values(V, gridS2K)\n",
    "print(\"final policy:\")\n",
    "print_policy(policyS2K, gridS2K)"
   ]
  },
  {
   "cell_type": "code",
   "execution_count": 16,
   "metadata": {},
   "outputs": [
    {
     "data": {
      "text/plain": [
       "[((3, 0), 0), ((4, 0), 0), ((4, 1), 0), ((4, 2), 0), ((4, 2), 0), ((4, 3), 1)]"
      ]
     },
     "execution_count": 16,
     "metadata": {},
     "output_type": "execute_result"
    }
   ],
   "source": [
    "states_and_rewards_S2K"
   ]
  },
  {
   "cell_type": "code",
   "execution_count": 21,
   "metadata": {},
   "outputs": [],
   "source": [
    "F_P_Path_S2K = {}\n",
    "for (k,v) in states_and_rewards_S2K:\n",
    "    if v == 0:\n",
    "        f_a = policyS2K[k]\n",
    "        F_P_Path_S2K[k] = f_a"
   ]
  },
  {
   "cell_type": "code",
   "execution_count": 22,
   "metadata": {},
   "outputs": [
    {
     "name": "stdout",
     "output_type": "stream",
     "text": [
      "Path from Start to Key \n",
      "------------------------------------------\n",
      "     |     |     |     |     |     |     |\n",
      "------------------------------------------\n",
      "     |     |     |     |     |     |     |\n",
      "------------------------------------------\n",
      "     |     |     |     |     |     |     |\n",
      "------------------------------------------\n",
      "  D  |     |     |     |     |     |     |\n",
      "------------------------------------------\n",
      "  R  |  R  |  R  |     |     |     |     |\n",
      "------------------------------------------\n",
      "     |     |     |     |     |     |     |\n"
     ]
    }
   ],
   "source": [
    "print(\"Path from Start to Key \")\n",
    "print_policy(F_P_Path_S2K,gridS2K)"
   ]
  },
  {
   "cell_type": "code",
   "execution_count": null,
   "metadata": {},
   "outputs": [],
   "source": []
  },
  {
   "cell_type": "code",
   "execution_count": 26,
   "metadata": {},
   "outputs": [],
   "source": [
    "for it in range(100):\n",
    "    states_and_rewards_K2G = play_gameK2G(gridK2G, policyK2G)\n",
    "    for t in range(len(states_and_rewards_K2G) - 1):\n",
    "        s, _ = states_and_rewards_K2G[t]\n",
    "        s2, r = states_and_rewards_K2G[t+1]\n",
    "        # Updating values\n",
    "        V[s] = V[s] + ALPHA*(r + GAMMA*V[s2] - V[s])"
   ]
  },
  {
   "cell_type": "code",
   "execution_count": 27,
   "metadata": {},
   "outputs": [
    {
     "data": {
      "text/plain": [
       "[((4, 3), 0),\n",
       " ((4, 4), 0),\n",
       " ((3, 4), 0),\n",
       " ((2, 4), 0),\n",
       " ((2, 5), 0),\n",
       " ((1, 5), 0),\n",
       " ((0, 5), 0),\n",
       " ((0, 6), 1)]"
      ]
     },
     "execution_count": 27,
     "metadata": {},
     "output_type": "execute_result"
    }
   ],
   "source": [
    "states_and_rewards_K2G"
   ]
  },
  {
   "cell_type": "code",
   "execution_count": 28,
   "metadata": {},
   "outputs": [],
   "source": [
    "F_P_Path_K2G = {}\n",
    "for (k,v) in states_and_rewards_K2G:\n",
    "    if v == 0:\n",
    "        f_a = policyK2G[k]\n",
    "        F_P_Path_K2G[k] = f_a"
   ]
  },
  {
   "cell_type": "code",
   "execution_count": 29,
   "metadata": {},
   "outputs": [
    {
     "name": "stdout",
     "output_type": "stream",
     "text": [
      "Path from Key To Goal\n",
      "------------------------------------------\n",
      "     |     |     |     |     |  R  |     |\n",
      "------------------------------------------\n",
      "     |     |     |     |     |  U  |     |\n",
      "------------------------------------------\n",
      "     |     |     |     |  R  |  U  |     |\n",
      "------------------------------------------\n",
      "     |     |     |     |  U  |     |     |\n",
      "------------------------------------------\n",
      "     |     |     |  R  |  U  |     |     |\n",
      "------------------------------------------\n",
      "     |     |     |     |     |     |     |\n"
     ]
    }
   ],
   "source": [
    "print(\"Path from Key To Goal\")\n",
    "print_policy(F_P_Path_K2G,gridK2G)"
   ]
  },
  {
   "cell_type": "code",
   "execution_count": 30,
   "metadata": {},
   "outputs": [],
   "source": [
    "#MergePath from S2K K2G\n",
    "def Merge(dict1, dict2): \n",
    "    res = {**dict1, **dict2} \n",
    "    return res \n",
    "\n",
    "F_P_Path = Merge(F_P_Path_S2K, F_P_Path_K2G)"
   ]
  },
  {
   "cell_type": "code",
   "execution_count": 31,
   "metadata": {},
   "outputs": [
    {
     "name": "stdout",
     "output_type": "stream",
     "text": [
      "Final Path from Start to Princess\n",
      "------------------------------------------\n",
      "     |     |     |     |     |  R  |     |\n",
      "------------------------------------------\n",
      "     |     |     |     |     |  U  |     |\n",
      "------------------------------------------\n",
      "     |     |     |     |  R  |  U  |     |\n",
      "------------------------------------------\n",
      "  D  |     |     |     |  U  |     |     |\n",
      "------------------------------------------\n",
      "  R  |  R  |  R  |  R  |  U  |     |     |\n",
      "------------------------------------------\n",
      "     |     |     |     |     |     |     |\n"
     ]
    }
   ],
   "source": [
    "print(\"Final Path from Start to Princess\")\n",
    "print_policy(F_P_Path,gridK2G)"
   ]
  }
 ],
 "metadata": {
  "kernelspec": {
   "display_name": "Python 3",
   "language": "python",
   "name": "python3"
  },
  "language_info": {
   "codemirror_mode": {
    "name": "ipython",
    "version": 3
   },
   "file_extension": ".py",
   "mimetype": "text/x-python",
   "name": "python",
   "nbconvert_exporter": "python",
   "pygments_lexer": "ipython3",
   "version": "3.6.5"
  }
 },
 "nbformat": 4,
 "nbformat_minor": 2
}
