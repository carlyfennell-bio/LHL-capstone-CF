{
 "cells": [
  {
   "cell_type": "markdown",
   "metadata": {},
   "source": [
    "## Epsilon Greedy Selection"
   ]
  },
  {
   "cell_type": "code",
   "execution_count": 106,
   "metadata": {},
   "outputs": [],
   "source": [
    "import gym\n",
    "import numpy as np\n",
    "import random\n",
    "import pandas as pd\n",
    "from matplotlib import pyplot as plot\n",
    "%matplotlib inline"
   ]
  },
  {
   "cell_type": "code",
   "execution_count": 107,
   "metadata": {},
   "outputs": [],
   "source": [
    "from multi_armed_bandit import MultiArmedBandit"
   ]
  },
  {
   "cell_type": "code",
   "execution_count": 108,
   "metadata": {},
   "outputs": [],
   "source": [
    "dataset = pd.read_csv(\"Lawyer_search_engine.csv\")"
   ]
  },
  {
   "cell_type": "code",
   "execution_count": 109,
   "metadata": {},
   "outputs": [
    {
     "data": {
      "text/html": [
       "<div>\n",
       "<style scoped>\n",
       "    .dataframe tbody tr th:only-of-type {\n",
       "        vertical-align: middle;\n",
       "    }\n",
       "\n",
       "    .dataframe tbody tr th {\n",
       "        vertical-align: top;\n",
       "    }\n",
       "\n",
       "    .dataframe thead th {\n",
       "        text-align: right;\n",
       "    }\n",
       "</style>\n",
       "<table border=\"1\" class=\"dataframe\">\n",
       "  <thead>\n",
       "    <tr style=\"text-align: right;\">\n",
       "      <th></th>\n",
       "      <th>Sr. No.</th>\n",
       "      <th>Lawyer Profession</th>\n",
       "      <th>Number of Searches</th>\n",
       "    </tr>\n",
       "  </thead>\n",
       "  <tbody>\n",
       "    <tr>\n",
       "      <th>0</th>\n",
       "      <td>1</td>\n",
       "      <td>Personal Injury</td>\n",
       "      <td>198048</td>\n",
       "    </tr>\n",
       "    <tr>\n",
       "      <th>1</th>\n",
       "      <td>2</td>\n",
       "      <td>Estate Planning</td>\n",
       "      <td>203274</td>\n",
       "    </tr>\n",
       "    <tr>\n",
       "      <th>2</th>\n",
       "      <td>3</td>\n",
       "      <td>Bankruptcy</td>\n",
       "      <td>253356</td>\n",
       "    </tr>\n",
       "    <tr>\n",
       "      <th>3</th>\n",
       "      <td>4</td>\n",
       "      <td>Intellectual Property</td>\n",
       "      <td>285372</td>\n",
       "    </tr>\n",
       "    <tr>\n",
       "      <th>4</th>\n",
       "      <td>5</td>\n",
       "      <td>Employment</td>\n",
       "      <td>181151</td>\n",
       "    </tr>\n",
       "  </tbody>\n",
       "</table>\n",
       "</div>"
      ],
      "text/plain": [
       "   Sr. No.      Lawyer Profession  Number of Searches\n",
       "0        1        Personal Injury              198048\n",
       "1        2        Estate Planning              203274\n",
       "2        3             Bankruptcy              253356\n",
       "3        4  Intellectual Property              285372\n",
       "4        5             Employment              181151"
      ]
     },
     "execution_count": 109,
     "metadata": {},
     "output_type": "execute_result"
    }
   ],
   "source": [
    "dataset.head()"
   ]
  },
  {
   "cell_type": "code",
   "execution_count": 110,
   "metadata": {},
   "outputs": [
    {
     "name": "stdout",
     "output_type": "stream",
     "text": [
      "Column Name: Sr. No. : <class 'numpy.int64'>\n",
      "Column Name: Lawyer Profession : <class 'str'>\n",
      "Column Name: Number of Searches : <class 'numpy.int64'>\n"
     ]
    }
   ],
   "source": [
    "# Checking column data types\n",
    "______________________________________________"
   ]
  },
  {
   "cell_type": "code",
   "execution_count": 111,
   "metadata": {},
   "outputs": [],
   "source": [
    "# Calculating Probabilities (Rewards)\n",
    "______________________________________"
   ]
  },
  {
   "cell_type": "code",
   "execution_count": 114,
   "metadata": {},
   "outputs": [],
   "source": [
    "def create_bandit(reward_dist):\n",
    "    env = _________________________________________________________\n",
    "    number_of_professions_of_lawyers= len(probabilities_of_searches)\n",
    "    return env,number_of_professions_of_lawyers"
   ]
  },
  {
   "cell_type": "code",
   "execution_count": 115,
   "metadata": {},
   "outputs": [
    {
     "name": "stdout",
     "output_type": "stream",
     "text": [
      "<class 'list'>\n",
      "<class 'int'>\n",
      "The total number of Lawyer type is: 16\n"
     ]
    }
   ],
   "source": [
    "tot_episodes = 200\n",
    "tot_steps = 100\n",
    "probabilities_of_searches = ______________________________________________________\n",
    "env,______________________________________ = create_bandit(_______________________)\n",
    "tot_number_of_professions_of_lawyers = len(probabilities_of_searches)\n",
    "print('The total number of Lawyer type is:', tot_number_of_professions_of_lawyers)\n"
   ]
  },
  {
   "cell_type": "code",
   "execution_count": 116,
   "metadata": {
    "scrolled": true
   },
   "outputs": [],
   "source": [
    "def perform_random_multiarm_bandit():\n",
    "    \n",
    "\n",
    "    ___________________________________________________________________________\n",
    "    ______________________________\n",
    "\n",
    "\n",
    "    for episode in range(tot_episodes):\n",
    "        cumulated_reward = 0\n",
    "        reward_counter_array = _________________________________________________\n",
    "        action_counter_array = _________________________________________________\n",
    "        for step in range(tot_steps):\n",
    "            action = np.random.randint(low=0, high=tot_number_of_professions_of_lawyers)\n",
    "            reward = env.step(action)\n",
    "            reward_counter_array[action] += reward\n",
    "            action_counter_array[action] += 1\n",
    "            cumulated_reward += reward\n",
    "        cumulated_reward_list.append(cumulated_reward)\n",
    "        value_function = np.true_divide(reward_counter_array, action_counter_array)\n",
    "        average_value_function += value_function\n",
    "    return average_value_function,cumulated_reward_list,action_counter_array\n",
    "\n",
    "\n"
   ]
  },
  {
   "cell_type": "code",
   "execution_count": 117,
   "metadata": {},
   "outputs": [
    {
     "name": "stdout",
     "output_type": "stream",
     "text": [
      "99.81625\n"
     ]
    }
   ],
   "source": [
    "# Checking Random Rewards"
   ]
  },
  {
   "cell_type": "code",
   "execution_count": 118,
   "metadata": {},
   "outputs": [
    {
     "data": {
      "text/plain": [
       "<matplotlib.text.Text at 0x228334362e8>"
      ]
     },
     "execution_count": 118,
     "metadata": {},
     "output_type": "execute_result"
    },
    {
     "data": {
      "image/png": "[encoded data removed]",
      "text/plain": [
       "<matplotlib.figure.Figure at 0x228333ef320>"
      ]
     },
     "metadata": {},
     "output_type": "display_data"
    }
   ],
   "source": [
    "plot.title(\"Random Selection\")\n",
    "plot.bar(range(1,tot_number_of_professions_of_lawyers+1),random_actions,width =0.5)\n",
    "plot.xlabel('Type of Lawyers')\n",
    "plot.ylabel('Count')"
   ]
  },
  {
   "cell_type": "code",
   "execution_count": 119,
   "metadata": {},
   "outputs": [],
   "source": [
    "def return_greedy_action(reward_counter_array):\n",
    "    amax = np.amax(reward_counter_array)\n",
    "    indices = np.where(reward_counter_array == amax)[0]\n",
    "    action = np.random.choice(indices)\n",
    "    return action"
   ]
  },
  {
   "cell_type": "code",
   "execution_count": 120,
   "metadata": {},
   "outputs": [],
   "source": [
    "def perform_greedy_multiarm_bandit():\n",
    "\n",
    "    average_value_function = np.zeros(tot_arms)\n",
    "    cumulated_reward_list = list()\n",
    "    epsilon = 0.1\n",
    "\n",
    "    for episode in range(tot_episodes):\n",
    "        cumulated_reward = 0\n",
    "        reward_counter_array = np.zeros(tot_number_of_professions_of_lawyers)\n",
    "        action_counter_array = np.full(tot_number_of_professions_of_lawyers, 1.0e-5)\n",
    "        for step in range(tot_steps):\n",
    "            action = return_greedy_action(reward_counter_array)\n",
    "            reward = env.step(action)\n",
    "            reward_counter_array[action] += reward\n",
    "            action_counter_array[action] += 1\n",
    "            cumulated_reward += reward\n",
    "        cumulated_reward_list.append(cumulated_reward)\n",
    "        value_function = np.true_divide(reward_counter_array, action_counter_array)\n",
    "        average_value_function += value_function\n",
    "    return average_value_function,cumulated_reward_list,action_counter_array"
   ]
  },
  {
   "cell_type": "code",
   "execution_count": 121,
   "metadata": {},
   "outputs": [],
   "source": [
    "greedy_average_value_fn,greedy_rewards,greedy_actions = perform_greedy_multiarm_bandit()"
   ]
  },
  {
   "cell_type": "code",
   "execution_count": 122,
   "metadata": {},
   "outputs": [
    {
     "data": {
      "text/plain": [
       "<matplotlib.text.Text at 0x22835636860>"
      ]
     },
     "execution_count": 122,
     "metadata": {},
     "output_type": "execute_result"
    },
    {
     "data": {
      "image/png": "[encoded data removed]",
      "text/plain": [
       "<matplotlib.figure.Figure at 0x228355c20b8>"
      ]
     },
     "metadata": {},
     "output_type": "display_data"
    }
   ],
   "source": [
    "plot.title(\"Epsilon Greedy Selection with epsilon = 0.1\")\n",
    "plot.bar(range(1,tot_number_of_professions_of_lawyers+1),greedy_actions,width =0.5)\n",
    "plot.xlabel('Type of Lawyers')\n",
    "plot.ylabel('Count')"
   ]
  },
  {
   "cell_type": "code",
   "execution_count": 133,
   "metadata": {},
   "outputs": [
    {
     "name": "stdout",
     "output_type": "stream",
     "text": [
      "102.1725\n"
     ]
    }
   ],
   "source": [
    "print(np.mean(greedy_rewards))"
   ]
  },
  {
   "cell_type": "code",
   "execution_count": 123,
   "metadata": {},
   "outputs": [],
   "source": [
    "def return_epsilon_greedy_action(epsilon, reward_counter_array):\n",
    "    \n",
    "    tot_actions = reward_counter_array.shape[0]\n",
    "    if random.uniform(0, 1) <= epsilon:\n",
    "        action = np.random.randint(low=0, high=tot_actions)\n",
    "    else:\n",
    "        amax = np.amax(reward_counter_array)\n",
    "        indices = np.where(reward_counter_array == amax)[0]\n",
    "        action = np.random.choice(indices)\n",
    "    return action"
   ]
  },
  {
   "cell_type": "code",
   "execution_count": 124,
   "metadata": {},
   "outputs": [],
   "source": [
    "def perform_epsilon_greedy_multiarm_bandit(epsilon=0.1):\n",
    "\n",
    "    average_value_function = np.zeros(tot_number_of_professions_of_lawyers)\n",
    "    cumulated_reward_list = list()\n",
    "    \n",
    "\n",
    "    for episode in range(tot_episodes):\n",
    "        cumulated_reward = 0\n",
    "        reward_counter_array = np.zeros(tot_number_of_professions_of_lawyers)\n",
    "        action_counter_array = np.full(tot_number_of_professions_of_lawyers, 1.0e-5)\n",
    "        for step in range(tot_steps):\n",
    "\n",
    "            action = return_epsilon_greedy_action(epsilon, np.true_divide(reward_counter_array, action_counter_array))\n",
    "            reward = env.step(action)\n",
    "            reward_counter_array[action] += reward\n",
    "            action_counter_array[action] += 1\n",
    "            cumulated_reward += reward\n",
    "        cumulated_reward_list.append(cumulated_reward)\n",
    "        value_function = np.true_divide(reward_counter_array, action_counter_array)\n",
    "        average_value_function += value_function\n",
    "    return average_value_function,cumulated_reward_list,action_counter_array"
   ]
  },
  {
   "cell_type": "code",
   "execution_count": 125,
   "metadata": {},
   "outputs": [
    {
     "data": {
      "text/plain": [
       "<matplotlib.text.Text at 0x22835726f28>"
      ]
     },
     "execution_count": 125,
     "metadata": {},
     "output_type": "execute_result"
    },
    {
     "data": {
      "image/png": "[encoded data removed]",
      "text/plain": [
       "<matplotlib.figure.Figure at 0x228355823c8>"
      ]
     },
     "metadata": {},
     "output_type": "display_data"
    }
   ],
   "source": [
    "ep_greedy_average_value_fn,ep_greedy_rewards,ep_greedy_actions = perform_epsilon_greedy_multiarm_bandit(epsilon=0.1)\n",
    "plot.title(\"Epsilon Greedy Selection with epsilon = 0.1\")\n",
    "plot.bar(range(1,tot_number_of_professions_of_lawyers+1),ep_greedy_actions,width =0.5)\n",
    "plot.xlabel('Type of Lawyers')\n",
    "plot.ylabel('Count')"
   ]
  },
  {
   "cell_type": "code",
   "execution_count": 126,
   "metadata": {},
   "outputs": [
    {
     "name": "stdout",
     "output_type": "stream",
     "text": [
      "106.283125\n"
     ]
    }
   ],
   "source": [
    "print(np.mean(ep_greedy_rewards))"
   ]
  },
  {
   "cell_type": "code",
   "execution_count": 127,
   "metadata": {},
   "outputs": [
    {
     "data": {
      "text/plain": [
       "<matplotlib.text.Text at 0x22835810630>"
      ]
     },
     "execution_count": 127,
     "metadata": {},
     "output_type": "execute_result"
    },
    {
     "data": {
      "image/png": "[encoded data removed]",
      "text/plain": [
       "<matplotlib.figure.Figure at 0x228357a2828>"
      ]
     },
     "metadata": {},
     "output_type": "display_data"
    }
   ],
   "source": [
    "ep_greedy_average_value_fn,ep_greedy_rewards,ep_greedy_actions = perform_epsilon_greedy_multiarm_bandit(epsilon=0.5)\n",
    "plot.title(\"Epsilon Greedy Selection with epsilon = 0.5\")\n",
    "plot.bar(range(1,tot_number_of_professions_of_lawyers+1),ep_greedy_actions,width =0.5)\n",
    "plot.xlabel('Type of Lawyers')\n",
    "plot.ylabel('Count')"
   ]
  },
  {
   "cell_type": "code",
   "execution_count": 128,
   "metadata": {},
   "outputs": [
    {
     "name": "stdout",
     "output_type": "stream",
     "text": [
      "103.770625\n"
     ]
    }
   ],
   "source": [
    "print(np.mean(ep_greedy_rewards))"
   ]
  },
  {
   "cell_type": "code",
   "execution_count": 129,
   "metadata": {},
   "outputs": [
    {
     "data": {
      "text/plain": [
       "<matplotlib.text.Text at 0x228358fed68>"
      ]
     },
     "execution_count": 129,
     "metadata": {},
     "output_type": "execute_result"
    },
    {
     "data": {
      "image/png": "[encoded data removed]",
      "text/plain": [
       "<matplotlib.figure.Figure at 0x228358d3860>"
      ]
     },
     "metadata": {},
     "output_type": "display_data"
    }
   ],
   "source": [
    "ep_greedy_average_value_fn,ep_greedy_rewards,ep_greedy_actions = perform_epsilon_greedy_multiarm_bandit(epsilon=0.9)\n",
    "plot.title(\"Epsilon Greedy Selection with epsilon = 0.9\")\n",
    "plot.bar(range(1,tot_number_of_professions_of_lawyers+1),ep_greedy_actions,width =0.5)\n",
    "plot.xlabel('Type of Lawyers')\n",
    "plot.ylabel('Count')"
   ]
  },
  {
   "cell_type": "code",
   "execution_count": 130,
   "metadata": {},
   "outputs": [
    {
     "name": "stdout",
     "output_type": "stream",
     "text": [
      "100.4675\n"
     ]
    }
   ],
   "source": [
    "print(np.mean(ep_greedy_rewards))"
   ]
  },
  {
   "cell_type": "code",
   "execution_count": 131,
   "metadata": {},
   "outputs": [
    {
     "data": {
      "text/plain": [
       "<matplotlib.text.Text at 0x228358cd0b8>"
      ]
     },
     "execution_count": 131,
     "metadata": {},
     "output_type": "execute_result"
    },
    {
     "data": {
      "image/png": "[encoded data removed]",
      "text/plain": [
       "<matplotlib.figure.Figure at 0x22835707080>"
      ]
     },
     "metadata": {},
     "output_type": "display_data"
    }
   ],
   "source": [
    "ep_greedy_average_value_fn,ep_greedy_rewards,ep_greedy_actions = perform_epsilon_greedy_multiarm_bandit(epsilon=0.0)\n",
    "plot.title(\"Epsilon Greedy Selection with epsilon = 0.0\")\n",
    "plot.bar(range(1,tot_number_of_professions_of_lawyers+1),ep_greedy_actions,width =0.5)\n",
    "plot.xlabel('Type of Lawyers')\n",
    "plot.ylabel('Count')"
   ]
  },
  {
   "cell_type": "code",
   "execution_count": 132,
   "metadata": {},
   "outputs": [
    {
     "name": "stdout",
     "output_type": "stream",
     "text": [
      "102.1403125\n"
     ]
    }
   ],
   "source": [
    "print(np.mean(ep_greedy_rewards))"
   ]
  }
 ],
 "metadata": {
  "kernelspec": {
   "display_name": "Python 3",
   "language": "python",
   "name": "python3"
  },
  "language_info": {
   "codemirror_mode": {
    "name": "ipython",
    "version": 3
   },
   "file_extension": ".py",
   "mimetype": "text/x-python",
   "name": "python",
   "nbconvert_exporter": "python",
   "pygments_lexer": "ipython3",
   "version": "3.6.5"
  }
 },
 "nbformat": 4,
 "nbformat_minor": 2
}
