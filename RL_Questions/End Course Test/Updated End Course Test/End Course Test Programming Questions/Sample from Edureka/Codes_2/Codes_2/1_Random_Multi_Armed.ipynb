{
 "cells": [
  {
   "cell_type": "markdown",
   "metadata": {},
   "source": [
    "## Multi Armed Bandit\n",
    "\n",
    "In this demo, we would walk through the process of interacting with a Multi Armed Bandit environment in OpenAI Gym. You can select one amongst the many Bandit environments listed __[here.](https://github.com/JKCooper2/gym-bandits)__\n",
    "\n",
    "We will make a comparision between Random Selection method and a Greedy Selection method.\n",
    "\n"
   ]
  },
  {
   "cell_type": "code",
   "execution_count": 21,
   "metadata": {},
   "outputs": [],
   "source": [
    "import gym\n",
    "import numpy as np"
   ]
  },
  {
   "cell_type": "code",
   "execution_count": 22,
   "metadata": {},
   "outputs": [],
   "source": [
    "import gym_bandits\n",
    "from matplotlib import pyplot as plot"
   ]
  },
  {
   "cell_type": "markdown",
   "metadata": {},
   "source": [
    "We are invoking an environment in which one of the bandits has a higher rewards and the other has a lesser reward. We could examine it by evaluating the reward after each step. "
   ]
  },
  {
   "cell_type": "code",
   "execution_count": 23,
   "metadata": {},
   "outputs": [],
   "source": [
    "env = gym.make(\"BanditTwoArmedHighLowFixed-v0\")"
   ]
  },
  {
   "cell_type": "markdown",
   "metadata": {},
   "source": [
    "Repeat the step process given below for a couple of times and find out which Agent has a bigger reward."
   ]
  },
  {
   "cell_type": "code",
   "execution_count": 24,
   "metadata": {},
   "outputs": [
    {
     "name": "stdout",
     "output_type": "stream",
     "text": [
      "0 0\n"
     ]
    }
   ],
   "source": [
    "env.reset()\n",
    "observation, reward, done, info = env.step(1)\n",
    "print(observation,reward)"
   ]
  },
  {
   "cell_type": "code",
   "execution_count": 25,
   "metadata": {},
   "outputs": [],
   "source": [
    "observation, reward, done, info = env.step(0)"
   ]
  },
  {
   "cell_type": "code",
   "execution_count": 26,
   "metadata": {},
   "outputs": [
    {
     "name": "stdout",
     "output_type": "stream",
     "text": [
      "0 1\n"
     ]
    }
   ],
   "source": [
    "print(observation,reward)"
   ]
  },
  {
   "cell_type": "markdown",
   "metadata": {},
   "source": [
    "An environments action space in Gym determines the possible actions our Agent can take."
   ]
  },
  {
   "cell_type": "code",
   "execution_count": 27,
   "metadata": {},
   "outputs": [
    {
     "data": {
      "text/plain": [
       "Discrete(2)"
      ]
     },
     "execution_count": 27,
     "metadata": {},
     "output_type": "execute_result"
    }
   ],
   "source": [
    "env.action_space"
   ]
  },
  {
   "cell_type": "code",
   "execution_count": 28,
   "metadata": {},
   "outputs": [
    {
     "data": {
      "text/plain": [
       "Discrete(1)"
      ]
     },
     "execution_count": 28,
     "metadata": {},
     "output_type": "execute_result"
    }
   ],
   "source": [
    "env.observation_space"
   ]
  },
  {
   "cell_type": "markdown",
   "metadata": {},
   "source": [
    "You can modify these numbers and repeat the tests to observe the impact between different approaches."
   ]
  },
  {
   "cell_type": "code",
   "execution_count": 29,
   "metadata": {},
   "outputs": [
    {
     "name": "stdout",
     "output_type": "stream",
     "text": [
      "2\n"
     ]
    }
   ],
   "source": [
    "tot_episodes=200\n",
    "tot_steps =100\n",
    "\n",
    "tot_arms = env.action_space.n\n",
    "print(tot_arms)\n"
   ]
  },
  {
   "cell_type": "markdown",
   "metadata": {},
   "source": [
    "Lets make our Agent choose an action by random without considering the rewards it received in the past and plot the number of times it has picked each action."
   ]
  },
  {
   "cell_type": "code",
   "execution_count": 30,
   "metadata": {
    "scrolled": true
   },
   "outputs": [],
   "source": [
    "average_value_function = np.zeros(tot_arms)\n",
    "cumulated_reward_list = list()\n",
    "average_value_function = np.zeros(tot_arms)\n",
    "for episode in range(tot_episodes):\n",
    "    cumulated_reward = 0\n",
    "    reward_counter_array = np.zeros(tot_arms)\n",
    "    action_counter_array = np.full(tot_arms, 1.0e-5)\n",
    "    for step in range(tot_steps):\n",
    "        action = np.random.randint(low=0, high=tot_arms)\n",
    "        #print(action)\n",
    "        observation,reward,done,info = env.step(action)\n",
    "        reward_counter_array[action] += reward\n",
    "        action_counter_array[action] += 1\n",
    "        cumulated_reward += reward\n",
    "    cumulated_reward_list.append(cumulated_reward)\n",
    "    value_function = np.true_divide(reward_counter_array, action_counter_array)\n",
    "    average_value_function += value_function\n",
    "\n",
    "    \n"
   ]
  },
  {
   "cell_type": "markdown",
   "metadata": {},
   "source": [
    "Let us find the average reward the Agent has collected."
   ]
  },
  {
   "cell_type": "code",
   "execution_count": 31,
   "metadata": {},
   "outputs": [
    {
     "name": "stdout",
     "output_type": "stream",
     "text": [
      "49.85\n",
      "[48.00001 52.00001]\n"
     ]
    }
   ],
   "source": [
    "print(np.mean(cumulated_reward_list))\n",
    "print(action_counter_array)"
   ]
  },
  {
   "cell_type": "code",
   "execution_count": 32,
   "metadata": {},
   "outputs": [
    {
     "data": {
      "text/plain": [
       "Text(0, 0.5, 'Count')"
      ]
     },
     "execution_count": 32,
     "metadata": {},
     "output_type": "execute_result"
    },
    {
     "data": {
      "image/png": "[encoded data removed]",
      "text/plain": [
       "<Figure size 432x288 with 1 Axes>"
      ]
     },
     "metadata": {
      "needs_background": "light"
     },
     "output_type": "display_data"
    }
   ],
   "source": [
    "\n",
    "plot.title(\"Random Selection\")\n",
    "plot.bar([1,2],action_counter_array,width =0.5)\n",
    "plot.xlabel('Action')\n",
    "plot.ylabel('Count')"
   ]
  },
  {
   "cell_type": "markdown",
   "metadata": {},
   "source": [
    "Let us make our Agent choose a Greedy action by picking the arm with higher reward estimate so far."
   ]
  },
  {
   "cell_type": "code",
   "execution_count": 33,
   "metadata": {},
   "outputs": [],
   "source": [
    "def return_greedy_action(reward_counter_array):\n",
    "    amax = np.amax(reward_counter_array)\n",
    "    indices = np.where(reward_counter_array == amax)[0]\n",
    "    action = np.random.choice(indices)\n",
    "    return action\n"
   ]
  },
  {
   "cell_type": "code",
   "execution_count": 34,
   "metadata": {},
   "outputs": [],
   "source": [
    "average_value_function = np.zeros(tot_arms)\n",
    "cumulated_reward_list = list()\n",
    "\n",
    "\n",
    "for episode in range(tot_episodes):\n",
    "    cumulated_reward = 0\n",
    "    reward_counter_array = np.zeros(tot_arms)\n",
    "    action_counter_array = np.full(tot_arms, 1.0e-5)\n",
    "    for step in range(tot_steps):\n",
    "        action = return_greedy_action(reward_counter_array)\n",
    "        observation,reward,done,info = env.step(action)\n",
    "        reward_counter_array[action] += reward\n",
    "        action_counter_array[action] += 1\n",
    "        cumulated_reward += reward\n",
    "    cumulated_reward_list.append(cumulated_reward)\n",
    "    value_function = np.true_divide(reward_counter_array, action_counter_array)\n",
    "    average_value_function += value_function"
   ]
  },
  {
   "cell_type": "code",
   "execution_count": 35,
   "metadata": {},
   "outputs": [
    {
     "name": "stdout",
     "output_type": "stream",
     "text": [
      "70.83\n"
     ]
    }
   ],
   "source": [
    "print(np.mean(cumulated_reward_list))"
   ]
  },
  {
   "cell_type": "code",
   "execution_count": 36,
   "metadata": {},
   "outputs": [
    {
     "data": {
      "text/plain": [
       "Text(0, 0.5, 'Count')"
      ]
     },
     "execution_count": 36,
     "metadata": {},
     "output_type": "execute_result"
    },
    {
     "data": {
      "image/png": "[encoded data removed]",
      "text/plain": [
       "<Figure size 432x288 with 1 Axes>"
      ]
     },
     "metadata": {
      "needs_background": "light"
     },
     "output_type": "display_data"
    }
   ],
   "source": [
    "\n",
    "\n",
    "\n",
    "plot.title(\"Greedy Selection\")\n",
    "plot.bar([1,2],action_counter_array,width =0.5)\n",
    "plot.xlabel('Action')\n",
    "plot.ylabel('Count')"
   ]
  },
  {
   "cell_type": "code",
   "execution_count": 37,
   "metadata": {},
   "outputs": [
    {
     "name": "stdout",
     "output_type": "stream",
     "text": [
      "[0.6837992  0.02965121]\n"
     ]
    }
   ],
   "source": [
    "print(average_value_function/tot_episodes)"
   ]
  },
  {
   "cell_type": "markdown",
   "metadata": {},
   "source": [
    "Let us find the average reward the Agent has collected."
   ]
  },
  {
   "cell_type": "code",
   "execution_count": 38,
   "metadata": {},
   "outputs": [
    {
     "name": "stdout",
     "output_type": "stream",
     "text": [
      "70.83\n"
     ]
    }
   ],
   "source": [
    "print(np.mean(cumulated_reward_list))"
   ]
  },
  {
   "cell_type": "code",
   "execution_count": null,
   "metadata": {},
   "outputs": [],
   "source": []
  },
  {
   "cell_type": "code",
   "execution_count": null,
   "metadata": {},
   "outputs": [],
   "source": []
  }
 ],
 "metadata": {
  "kernelspec": {
   "display_name": "Python 3",
   "language": "python",
   "name": "python3"
  },
  "language_info": {
   "codemirror_mode": {
    "name": "ipython",
    "version": 3
   },
   "file_extension": ".py",
   "mimetype": "text/x-python",
   "name": "python",
   "nbconvert_exporter": "python",
   "pygments_lexer": "ipython3",
   "version": "3.6.7"
  }
 },
 "nbformat": 4,
 "nbformat_minor": 2
}
