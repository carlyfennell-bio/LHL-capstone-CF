{
 "cells": [
  {
   "cell_type": "markdown",
   "metadata": {},
   "source": [
    "# Data Parse & Explore"
   ]
  },
  {
   "cell_type": "code",
   "execution_count": 18,
   "metadata": {},
   "outputs": [],
   "source": [
    "import pandas as pd"
   ]
  },
  {
   "cell_type": "code",
   "execution_count": 21,
   "metadata": {},
   "outputs": [
    {
     "data": {
      "text/plain": [
       "'/Volumes/Transcend/DataScience/data_bootcamp/data/cap_data'"
      ]
     },
     "execution_count": 21,
     "metadata": {},
     "output_type": "execute_result"
    }
   ],
   "source": [
    "DATADIR"
   ]
  },
  {
   "cell_type": "code",
   "execution_count": 23,
   "metadata": {},
   "outputs": [],
   "source": [
    "test_df=pd.read_json(DATADIR+'/20200219_Data.jsonl',lines=True)"
   ]
  },
  {
   "cell_type": "code",
   "execution_count": 24,
   "metadata": {},
   "outputs": [
    {
     "data": {
      "text/plain": [
       "pandas.core.frame.DataFrame"
      ]
     },
     "execution_count": 24,
     "metadata": {},
     "output_type": "execute_result"
    }
   ],
   "source": [
    "type(test_df)"
   ]
  },
  {
   "cell_type": "code",
   "execution_count": 25,
   "metadata": {},
   "outputs": [
    {
     "data": {
      "text/html": [
       "<div>\n",
       "<style scoped>\n",
       "    .dataframe tbody tr th:only-of-type {\n",
       "        vertical-align: middle;\n",
       "    }\n",
       "\n",
       "    .dataframe tbody tr th {\n",
       "        vertical-align: top;\n",
       "    }\n",
       "\n",
       "    .dataframe thead th {\n",
       "        text-align: right;\n",
       "    }\n",
       "</style>\n",
       "<table border=\"1\" class=\"dataframe\">\n",
       "  <thead>\n",
       "    <tr style=\"text-align: right;\">\n",
       "      <th></th>\n",
       "      <th>period</th>\n",
       "      <th>frameIdx</th>\n",
       "      <th>gameClock</th>\n",
       "      <th>wallClock</th>\n",
       "      <th>homePlayers</th>\n",
       "      <th>awayPlayers</th>\n",
       "      <th>ball</th>\n",
       "      <th>live</th>\n",
       "      <th>lastTouch</th>\n",
       "    </tr>\n",
       "  </thead>\n",
       "  <tbody>\n",
       "    <tr>\n",
       "      <th>0</th>\n",
       "      <td>1</td>\n",
       "      <td>0</td>\n",
       "      <td>0.00</td>\n",
       "      <td>1582160420817</td>\n",
       "      <td>[{'playerId': '95284', 'number': 14, 'xyz': [3...</td>\n",
       "      <td>[{'playerId': '213100', 'number': 3, 'xyz': [-...</td>\n",
       "      <td>{'xyz': [-0.04, 0.01, 0.07], 'speed': 1.49}</td>\n",
       "      <td>False</td>\n",
       "      <td>home</td>\n",
       "    </tr>\n",
       "    <tr>\n",
       "      <th>1</th>\n",
       "      <td>1</td>\n",
       "      <td>1</td>\n",
       "      <td>0.04</td>\n",
       "      <td>1582160420857</td>\n",
       "      <td>[{'playerId': '95284', 'number': 14, 'xyz': [3...</td>\n",
       "      <td>[{'playerId': '213100', 'number': 3, 'xyz': [-...</td>\n",
       "      <td>{'xyz': [-0.03, 0.01, 0.07], 'speed': 2.33}</td>\n",
       "      <td>False</td>\n",
       "      <td>home</td>\n",
       "    </tr>\n",
       "    <tr>\n",
       "      <th>2</th>\n",
       "      <td>1</td>\n",
       "      <td>2</td>\n",
       "      <td>0.08</td>\n",
       "      <td>1582160420897</td>\n",
       "      <td>[{'playerId': '95284', 'number': 14, 'xyz': [3...</td>\n",
       "      <td>[{'playerId': '213100', 'number': 3, 'xyz': [-...</td>\n",
       "      <td>{'xyz': [-0.03, 0.01, 0.06], 'speed': 3.12}</td>\n",
       "      <td>False</td>\n",
       "      <td>home</td>\n",
       "    </tr>\n",
       "    <tr>\n",
       "      <th>3</th>\n",
       "      <td>1</td>\n",
       "      <td>3</td>\n",
       "      <td>0.12</td>\n",
       "      <td>1582160420937</td>\n",
       "      <td>[{'playerId': '95284', 'number': 14, 'xyz': [3...</td>\n",
       "      <td>[{'playerId': '213100', 'number': 3, 'xyz': [-...</td>\n",
       "      <td>{'xyz': [-0.03, 0.01, 0.06], 'speed': 3.79}</td>\n",
       "      <td>False</td>\n",
       "      <td>home</td>\n",
       "    </tr>\n",
       "    <tr>\n",
       "      <th>4</th>\n",
       "      <td>1</td>\n",
       "      <td>4</td>\n",
       "      <td>0.16</td>\n",
       "      <td>1582160420977</td>\n",
       "      <td>[{'playerId': '95284', 'number': 14, 'xyz': [3...</td>\n",
       "      <td>[{'playerId': '213100', 'number': 3, 'xyz': [-...</td>\n",
       "      <td>{'xyz': [-0.03, 0.01, 0.06], 'speed': 4.39}</td>\n",
       "      <td>False</td>\n",
       "      <td>home</td>\n",
       "    </tr>\n",
       "  </tbody>\n",
       "</table>\n",
       "</div>"
      ],
      "text/plain": [
       "   period  frameIdx  gameClock      wallClock  \\\n",
       "0       1         0       0.00  1582160420817   \n",
       "1       1         1       0.04  1582160420857   \n",
       "2       1         2       0.08  1582160420897   \n",
       "3       1         3       0.12  1582160420937   \n",
       "4       1         4       0.16  1582160420977   \n",
       "\n",
       "                                         homePlayers  \\\n",
       "0  [{'playerId': '95284', 'number': 14, 'xyz': [3...   \n",
       "1  [{'playerId': '95284', 'number': 14, 'xyz': [3...   \n",
       "2  [{'playerId': '95284', 'number': 14, 'xyz': [3...   \n",
       "3  [{'playerId': '95284', 'number': 14, 'xyz': [3...   \n",
       "4  [{'playerId': '95284', 'number': 14, 'xyz': [3...   \n",
       "\n",
       "                                         awayPlayers  \\\n",
       "0  [{'playerId': '213100', 'number': 3, 'xyz': [-...   \n",
       "1  [{'playerId': '213100', 'number': 3, 'xyz': [-...   \n",
       "2  [{'playerId': '213100', 'number': 3, 'xyz': [-...   \n",
       "3  [{'playerId': '213100', 'number': 3, 'xyz': [-...   \n",
       "4  [{'playerId': '213100', 'number': 3, 'xyz': [-...   \n",
       "\n",
       "                                          ball   live lastTouch  \n",
       "0  {'xyz': [-0.04, 0.01, 0.07], 'speed': 1.49}  False      home  \n",
       "1  {'xyz': [-0.03, 0.01, 0.07], 'speed': 2.33}  False      home  \n",
       "2  {'xyz': [-0.03, 0.01, 0.06], 'speed': 3.12}  False      home  \n",
       "3  {'xyz': [-0.03, 0.01, 0.06], 'speed': 3.79}  False      home  \n",
       "4  {'xyz': [-0.03, 0.01, 0.06], 'speed': 4.39}  False      home  "
      ]
     },
     "execution_count": 25,
     "metadata": {},
     "output_type": "execute_result"
    }
   ],
   "source": [
    "test_df.head()"
   ]
  },
  {
   "cell_type": "code",
   "execution_count": 27,
   "metadata": {},
   "outputs": [
    {
     "data": {
      "text/plain": [
       "11"
      ]
     },
     "execution_count": 27,
     "metadata": {},
     "output_type": "execute_result"
    }
   ],
   "source": [
    "len(test_df['homePlayers'][0])"
   ]
  },
  {
   "cell_type": "code",
   "execution_count": 28,
   "metadata": {},
   "outputs": [
    {
     "data": {
      "text/plain": [
       "11"
      ]
     },
     "execution_count": 28,
     "metadata": {},
     "output_type": "execute_result"
    }
   ],
   "source": [
    "len(test_df['awayPlayers'][0])"
   ]
  },
  {
   "cell_type": "code",
   "execution_count": 29,
   "metadata": {},
   "outputs": [
    {
     "data": {
      "text/plain": [
       "2"
      ]
     },
     "execution_count": 29,
     "metadata": {},
     "output_type": "execute_result"
    }
   ],
   "source": [
    "len(test_df['ball'][0])"
   ]
  },
  {
   "cell_type": "code",
   "execution_count": 30,
   "metadata": {},
   "outputs": [
    {
     "data": {
      "text/plain": [
       "{'xyz': [-0.04, 0.01, 0.07], 'speed': 1.49}"
      ]
     },
     "execution_count": 30,
     "metadata": {},
     "output_type": "execute_result"
    }
   ],
   "source": [
    "test_df['ball'][0]"
   ]
  },
  {
   "cell_type": "code",
   "execution_count": 33,
   "metadata": {},
   "outputs": [
    {
     "data": {
      "text/plain": [
       "dict_keys(['playerId', 'number', 'xyz', 'speed'])"
      ]
     },
     "execution_count": 33,
     "metadata": {},
     "output_type": "execute_result"
    }
   ],
   "source": [
    "test_df['homePlayers'][1][0].keys()"
   ]
  },
  {
   "cell_type": "code",
   "execution_count": 34,
   "metadata": {},
   "outputs": [
    {
     "data": {
      "text/plain": [
       "[{'playerId': '95284', 'number': 14, 'xyz': [3.07, -16.03, 0.0], 'speed': 0.0},\n",
       " {'playerId': '41556', 'number': 18, 'xyz': [42.89, 0.13, 0.0], 'speed': 0.0},\n",
       " {'playerId': '220150', 'number': 12, 'xyz': [0.11, 9.15, 0.0], 'speed': 0.0},\n",
       " {'playerId': '425341', 'number': 4, 'xyz': [18.47, -2.8, 0.0], 'speed': 0.0},\n",
       " {'playerId': '28565', 'number': 13, 'xyz': [18.35, 4.38, 0.0], 'speed': 0.0},\n",
       " {'playerId': '110619',\n",
       "  'number': 11,\n",
       "  'xyz': [7.83, 3.9699999999999998, 0.0],\n",
       "  'speed': 0.0},\n",
       " {'playerId': '424622', 'number': 17, 'xyz': [2.42, 16.54, 0.0], 'speed': 0.0},\n",
       " {'playerId': '82526',\n",
       "  'number': 16,\n",
       "  'xyz': [15.91, -18.82, 0.0],\n",
       "  'speed': 0.0},\n",
       " {'playerId': '429039', 'number': 72, 'xyz': [0.48, -9.07, 0.0], 'speed': 0.0},\n",
       " {'playerId': '249203', 'number': 40, 'xyz': [17.5, 19.38, 0.0], 'speed': 0.0},\n",
       " {'playerId': '151955', 'number': 6, 'xyz': [9.02, -4.55, 0.0], 'speed': 0.0}]"
      ]
     },
     "execution_count": 34,
     "metadata": {},
     "output_type": "execute_result"
    }
   ],
   "source": [
    "test_df['homePlayers'][1]"
   ]
  },
  {
   "cell_type": "code",
   "execution_count": 35,
   "metadata": {},
   "outputs": [
    {
     "data": {
      "text/plain": [
       "(139062, 9)"
      ]
     },
     "execution_count": 35,
     "metadata": {},
     "output_type": "execute_result"
    }
   ],
   "source": [
    "test_df.shape"
   ]
  },
  {
   "cell_type": "code",
   "execution_count": 37,
   "metadata": {},
   "outputs": [
    {
     "data": {
      "text/plain": [
       "92.708"
      ]
     },
     "execution_count": 37,
     "metadata": {},
     "output_type": "execute_result"
    }
   ],
   "source": [
    "test_df.shape[0]/25/60"
   ]
  },
  {
   "cell_type": "code",
   "execution_count": 43,
   "metadata": {},
   "outputs": [
    {
     "data": {
      "text/plain": [
       "away    80121\n",
       "home    58941\n",
       "Name: lastTouch, dtype: int64"
      ]
     },
     "execution_count": 43,
     "metadata": {},
     "output_type": "execute_result"
    }
   ],
   "source": [
    "test_df['lastTouch'].value_counts()"
   ]
  },
  {
   "cell_type": "code",
   "execution_count": 39,
   "metadata": {},
   "outputs": [
    {
     "data": {
      "text/plain": [
       "Index(['period', 'frameIdx', 'gameClock', 'wallClock', 'homePlayers',\n",
       "       'awayPlayers', 'ball', 'live', 'lastTouch'],\n",
       "      dtype='object')"
      ]
     },
     "execution_count": 39,
     "metadata": {},
     "output_type": "execute_result"
    }
   ],
   "source": [
    "test_df.keys()"
   ]
  },
  {
   "cell_type": "code",
   "execution_count": null,
   "metadata": {},
   "outputs": [],
   "source": [
    "for i in range(5):\n",
    "    for player in test_df['homePlayers'][i]:\n",
    "        player_cols.append([i,])"
   ]
  }
 ],
 "metadata": {
  "kernelspec": {
   "display_name": "bootcamp_env",
   "language": "python",
   "name": "bootcamp_env"
  },
  "language_info": {
   "codemirror_mode": {
    "name": "ipython",
    "version": 3
   },
   "file_extension": ".py",
   "mimetype": "text/x-python",
   "name": "python",
   "nbconvert_exporter": "python",
   "pygments_lexer": "ipython3",
   "version": "3.7.6"
  }
 },
 "nbformat": 4,
 "nbformat_minor": 4
}
