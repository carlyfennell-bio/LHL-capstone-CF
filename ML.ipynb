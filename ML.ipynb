{
 "cells": [
  {
   "cell_type": "markdown",
   "metadata": {},
   "source": [
    "# ML \n",
    "multinomial classification"
   ]
  },
  {
   "cell_type": "code",
   "execution_count": 1,
   "metadata": {},
   "outputs": [],
   "source": [
    "import pandas as pd\n",
    "import matplotlib.pyplot as plt\n",
    "import numpy as np\n",
    "import copy"
   ]
  },
  {
   "cell_type": "code",
   "execution_count": 2,
   "metadata": {},
   "outputs": [],
   "source": [
    "import sys  \n",
    "sys.path.insert(0, '/Volumes/Transcend/DataScience/data_bootcamp/data/cap_data')"
   ]
  },
  {
   "cell_type": "code",
   "execution_count": 3,
   "metadata": {},
   "outputs": [],
   "source": [
    "import Metrica_IO_CF as mio\n",
    "import Metrica_Viz_CF_ADJ as mviz\n",
    "import Metrica_Viz_CF as mviz_old\n",
    "import Metrica_Velocities_CF as mvel\n",
    "import matplotlib.animation as manimation"
   ]
  },
  {
   "cell_type": "code",
   "execution_count": 4,
   "metadata": {},
   "outputs": [],
   "source": [
    "# import numpy\n",
    "import numpy as np\n",
    "\n",
    "# import linear_model and datasets from sklearn\n",
    "from sklearn import linear_model\n",
    "# split X and y into training and testing sets\n",
    "from sklearn.model_selection import train_test_split\n",
    "\n",
    "# import GridSearchCV from sklearn\n",
    "from sklearn.model_selection import GridSearchCV\n",
    "\n",
    "import numpy as np\n",
    "import matplotlib.pyplot as plt\n",
    "from sklearn.linear_model import LogisticRegression\n",
    "\n",
    "from sklearn import preprocessing\n",
    "from sklearn.metrics import roc_auc_score\n",
    "\n",
    "# multi-class classification\n",
    "from sklearn.multiclass import OneVsRestClassifier\n",
    "from sklearn.linear_model import LogisticRegression\n",
    "from sklearn.model_selection import train_test_split\n",
    "from sklearn.metrics import roc_curve\n",
    "from sklearn.metrics import roc_auc_score"
   ]
  },
  {
   "cell_type": "code",
   "execution_count": 5,
   "metadata": {},
   "outputs": [],
   "source": [
    "DATADIR = \"/Volumes/Transcend/DataScience/data_bootcamp/data/cap_data\""
   ]
  },
  {
   "cell_type": "code",
   "execution_count": 6,
   "metadata": {},
   "outputs": [],
   "source": [
    "game_id='/game_2'"
   ]
  },
  {
   "cell_type": "code",
   "execution_count": 7,
   "metadata": {},
   "outputs": [],
   "source": [
    "tracking_home=pd.read_csv(DATADIR+game_id+'/tracking_home.csv')"
   ]
  },
  {
   "cell_type": "code",
   "execution_count": 8,
   "metadata": {},
   "outputs": [],
   "source": [
    "tracking_away=pd.read_csv(DATADIR+game_id+'/tracking_away.csv')"
   ]
  },
  {
   "cell_type": "code",
   "execution_count": 9,
   "metadata": {},
   "outputs": [
    {
     "data": {
      "text/plain": [
       "(151412, 103)"
      ]
     },
     "execution_count": 9,
     "metadata": {},
     "output_type": "execute_result"
    }
   ],
   "source": [
    "tracking_home.shape"
   ]
  },
  {
   "cell_type": "code",
   "execution_count": 10,
   "metadata": {},
   "outputs": [
    {
     "data": {
      "text/plain": [
       "(151412, 85)"
      ]
     },
     "execution_count": 10,
     "metadata": {},
     "output_type": "execute_result"
    }
   ],
   "source": [
    "tracking_away.shape"
   ]
  },
  {
   "cell_type": "code",
   "execution_count": 11,
   "metadata": {},
   "outputs": [],
   "source": [
    "events=pd.read_csv(DATADIR+game_id+'/events_cleaned.csv')"
   ]
  },
  {
   "cell_type": "code",
   "execution_count": 12,
   "metadata": {},
   "outputs": [],
   "source": [
    "tracking_home['Team']='Home'\n",
    "tracking_away['Team']='Away'"
   ]
  },
  {
   "cell_type": "code",
   "execution_count": 13,
   "metadata": {},
   "outputs": [],
   "source": [
    "tracking_all=tracking_home.merge(tracking_away.drop(['Time [s]','Period','ball_x',\n",
    "                                                                                 'ball_y','ball_z','ball_speed'],axis=1),how='left',on='frameIdx')"
   ]
  },
  {
   "cell_type": "code",
   "execution_count": 14,
   "metadata": {},
   "outputs": [],
   "source": [
    "team=[]\n",
    "for i in range(len(tracking_all)):\n",
    "    if tracking_all['Team_x'].iloc[i]=='Home':\n",
    "        team.append('Home')\n",
    "    else:\n",
    "        team.append('Away')"
   ]
  },
  {
   "cell_type": "code",
   "execution_count": 15,
   "metadata": {},
   "outputs": [],
   "source": [
    "tracking_all=tracking_all.drop(['Team_x','Team_y'],axis=1)"
   ]
  },
  {
   "cell_type": "code",
   "execution_count": 16,
   "metadata": {},
   "outputs": [],
   "source": [
    "tracking_all['Team']=team"
   ]
  },
  {
   "cell_type": "code",
   "execution_count": 18,
   "metadata": {},
   "outputs": [],
   "source": [
    "tracking_all=tracking_all.set_index('frameIdx')"
   ]
  },
  {
   "cell_type": "code",
   "execution_count": 19,
   "metadata": {},
   "outputs": [
    {
     "data": {
      "text/plain": [
       "(151412, 181)"
      ]
     },
     "execution_count": 19,
     "metadata": {},
     "output_type": "execute_result"
    }
   ],
   "source": [
    "tracking_all.shape"
   ]
  },
  {
   "cell_type": "markdown",
   "metadata": {},
   "source": [
    "# First model - 3 types, pass, goal, other"
   ]
  },
  {
   "cell_type": "markdown",
   "metadata": {},
   "source": [
    "### Critical Steps:\n",
    "1. Label Data Correctly - such that there are labels from the start of a pass to the end of a pass\n",
    " - this is going to take a hot minute\n",
    "2. Split data into train/test sets\n",
    "  - 70/30\n",
    "3. Use sliding window to reshape data into usable format\n",
    " - use a 2.5 s window length\n",
    " - choose % overlapping \n",
    "4. train model\n",
    " - model will need to be chosen - deep learning is best but it may be too much \n",
    " - get going using random forest or something\n",
    " - data needs to be shaped appropriately for this to work\n",
    "5. evaluate model\n",
    " - accuracy\n",
    " - confusion matrix\n",
    "6. dicuss next steps for improvements, applications\n",
    " - reduce dataset down to much less components (closest 3 players on each team to the ball or something)\n",
    " - deep learning using CNN or RNN,LSTM"
   ]
  },
  {
   "cell_type": "markdown",
   "metadata": {},
   "source": [
    "## 1. Label Data Correctly"
   ]
  },
  {
   "cell_type": "code",
   "execution_count": 20,
   "metadata": {},
   "outputs": [],
   "source": [
    "import seaborn as sns"
   ]
  },
  {
   "cell_type": "code",
   "execution_count": 21,
   "metadata": {},
   "outputs": [
    {
     "data": {
      "text/plain": [
       "<AxesSubplot:xlabel='count', ylabel='Subtype'>"
      ]
     },
     "execution_count": 21,
     "metadata": {},
     "output_type": "execute_result"
    },
    {
     "data": {
      "image/png": "[encoded data removed]",
      "text/plain": [
       "<Figure size 936x576 with 1 Axes>"
      ]
     },
     "metadata": {
      "needs_background": "light"
     },
     "output_type": "display_data"
    }
   ],
   "source": [
    "plt.figure(figsize=(13,8))\n",
    "sns.countplot(y='Subtype', data=events, order = events['Subtype'].value_counts().index)"
   ]
  },
  {
   "cell_type": "code",
   "execution_count": 23,
   "metadata": {},
   "outputs": [],
   "source": [
    "tracking_all['Labels']=np.nan"
   ]
  },
  {
   "cell_type": "code",
   "execution_count": 27,
   "metadata": {},
   "outputs": [],
   "source": [
    "tracking_all['End_X']=np.nan\n",
    "tracking_all['End_Y']=np.nan"
   ]
  },
  {
   "cell_type": "markdown",
   "metadata": {},
   "source": [
    "## Watching the game and manually labelling - Starting with second half"
   ]
  },
  {
   "cell_type": "code",
   "execution_count": 61,
   "metadata": {},
   "outputs": [],
   "source": [
    "def label_events(tracking_all,start_f,end_f,player_from,player_to,label):\n",
    "    '''Need tracking (df), start frame(int), end frame (int), \n",
    "    player from(list of player name), player to (list of player name)'''\n",
    "    \n",
    "    frames=np.arange(start_f,end_f+1,1)\n",
    "    player_from=player_from*len(frames)\n",
    "    player_to=player_to*len(frames)\n",
    "    labels=label*len(frames)\n",
    "    df=pd.DataFrame([frames,player_from, player_to,labels]).T\n",
    "    df.columns=['frameIdx','From','To','Event_Type']\n",
    "    return tracking_all.reset_index().merge(df,how='inner',on='frameIdx').set_index('frameIdx')    "
   ]
  },
  {
   "cell_type": "code",
   "execution_count": 64,
   "metadata": {},
   "outputs": [
    {
     "data": {
      "text/html": [
       "<div>\n",
       "<style scoped>\n",
       "    .dataframe tbody tr th:only-of-type {\n",
       "        vertical-align: middle;\n",
       "    }\n",
       "\n",
       "    .dataframe tbody tr th {\n",
       "        vertical-align: top;\n",
       "    }\n",
       "\n",
       "    .dataframe thead th {\n",
       "        text-align: right;\n",
       "    }\n",
       "</style>\n",
       "<table border=\"1\" class=\"dataframe\">\n",
       "  <thead>\n",
       "    <tr style=\"text-align: right;\">\n",
       "      <th></th>\n",
       "      <th>home_3_x</th>\n",
       "      <th>home_3_y</th>\n",
       "      <th>home_3_z</th>\n",
       "      <th>home_7_x</th>\n",
       "      <th>home_7_y</th>\n",
       "      <th>home_7_z</th>\n",
       "      <th>home_9_x</th>\n",
       "      <th>home_9_y</th>\n",
       "      <th>home_9_z</th>\n",
       "      <th>home_11_x</th>\n",
       "      <th>...</th>\n",
       "      <th>away_8_vx</th>\n",
       "      <th>away_8_vy</th>\n",
       "      <th>away_8_speed</th>\n",
       "      <th>Team</th>\n",
       "      <th>Labels</th>\n",
       "      <th>End_X</th>\n",
       "      <th>End_Y</th>\n",
       "      <th>From</th>\n",
       "      <th>To</th>\n",
       "      <th>Event_Type</th>\n",
       "    </tr>\n",
       "    <tr>\n",
       "      <th>frameIdx</th>\n",
       "      <th></th>\n",
       "      <th></th>\n",
       "      <th></th>\n",
       "      <th></th>\n",
       "      <th></th>\n",
       "      <th></th>\n",
       "      <th></th>\n",
       "      <th></th>\n",
       "      <th></th>\n",
       "      <th></th>\n",
       "      <th></th>\n",
       "      <th></th>\n",
       "      <th></th>\n",
       "      <th></th>\n",
       "      <th></th>\n",
       "      <th></th>\n",
       "      <th></th>\n",
       "      <th></th>\n",
       "      <th></th>\n",
       "      <th></th>\n",
       "      <th></th>\n",
       "    </tr>\n",
       "  </thead>\n",
       "  <tbody>\n",
       "    <tr>\n",
       "      <th>0</th>\n",
       "      <td>NaN</td>\n",
       "      <td>NaN</td>\n",
       "      <td>NaN</td>\n",
       "      <td>0.99</td>\n",
       "      <td>-9.30</td>\n",
       "      <td>0.0</td>\n",
       "      <td>-0.42</td>\n",
       "      <td>23.78</td>\n",
       "      <td>0.0</td>\n",
       "      <td>NaN</td>\n",
       "      <td>...</td>\n",
       "      <td>NaN</td>\n",
       "      <td>NaN</td>\n",
       "      <td>NaN</td>\n",
       "      <td>Home</td>\n",
       "      <td>NaN</td>\n",
       "      <td>NaN</td>\n",
       "      <td>NaN</td>\n",
       "      <td>10</td>\n",
       "      <td>21</td>\n",
       "      <td>Pass</td>\n",
       "    </tr>\n",
       "    <tr>\n",
       "      <th>1</th>\n",
       "      <td>NaN</td>\n",
       "      <td>NaN</td>\n",
       "      <td>NaN</td>\n",
       "      <td>0.99</td>\n",
       "      <td>-9.29</td>\n",
       "      <td>0.0</td>\n",
       "      <td>-0.48</td>\n",
       "      <td>23.79</td>\n",
       "      <td>0.0</td>\n",
       "      <td>NaN</td>\n",
       "      <td>...</td>\n",
       "      <td>NaN</td>\n",
       "      <td>NaN</td>\n",
       "      <td>NaN</td>\n",
       "      <td>Home</td>\n",
       "      <td>NaN</td>\n",
       "      <td>NaN</td>\n",
       "      <td>NaN</td>\n",
       "      <td>10</td>\n",
       "      <td>21</td>\n",
       "      <td>Pass</td>\n",
       "    </tr>\n",
       "    <tr>\n",
       "      <th>2</th>\n",
       "      <td>NaN</td>\n",
       "      <td>NaN</td>\n",
       "      <td>NaN</td>\n",
       "      <td>0.99</td>\n",
       "      <td>-9.27</td>\n",
       "      <td>0.0</td>\n",
       "      <td>-0.56</td>\n",
       "      <td>23.79</td>\n",
       "      <td>0.0</td>\n",
       "      <td>NaN</td>\n",
       "      <td>...</td>\n",
       "      <td>NaN</td>\n",
       "      <td>NaN</td>\n",
       "      <td>NaN</td>\n",
       "      <td>Home</td>\n",
       "      <td>NaN</td>\n",
       "      <td>NaN</td>\n",
       "      <td>NaN</td>\n",
       "      <td>10</td>\n",
       "      <td>21</td>\n",
       "      <td>Pass</td>\n",
       "    </tr>\n",
       "    <tr>\n",
       "      <th>3</th>\n",
       "      <td>NaN</td>\n",
       "      <td>NaN</td>\n",
       "      <td>NaN</td>\n",
       "      <td>1.00</td>\n",
       "      <td>-9.26</td>\n",
       "      <td>0.0</td>\n",
       "      <td>-0.64</td>\n",
       "      <td>23.80</td>\n",
       "      <td>0.0</td>\n",
       "      <td>NaN</td>\n",
       "      <td>...</td>\n",
       "      <td>NaN</td>\n",
       "      <td>NaN</td>\n",
       "      <td>NaN</td>\n",
       "      <td>Home</td>\n",
       "      <td>NaN</td>\n",
       "      <td>NaN</td>\n",
       "      <td>NaN</td>\n",
       "      <td>10</td>\n",
       "      <td>21</td>\n",
       "      <td>Pass</td>\n",
       "    </tr>\n",
       "    <tr>\n",
       "      <th>4</th>\n",
       "      <td>NaN</td>\n",
       "      <td>NaN</td>\n",
       "      <td>NaN</td>\n",
       "      <td>1.00</td>\n",
       "      <td>-9.25</td>\n",
       "      <td>0.0</td>\n",
       "      <td>-0.74</td>\n",
       "      <td>23.80</td>\n",
       "      <td>0.0</td>\n",
       "      <td>NaN</td>\n",
       "      <td>...</td>\n",
       "      <td>-0.5</td>\n",
       "      <td>0.357143</td>\n",
       "      <td>0.614452</td>\n",
       "      <td>Home</td>\n",
       "      <td>NaN</td>\n",
       "      <td>NaN</td>\n",
       "      <td>NaN</td>\n",
       "      <td>10</td>\n",
       "      <td>21</td>\n",
       "      <td>Pass</td>\n",
       "    </tr>\n",
       "    <tr>\n",
       "      <th>5</th>\n",
       "      <td>NaN</td>\n",
       "      <td>NaN</td>\n",
       "      <td>NaN</td>\n",
       "      <td>1.00</td>\n",
       "      <td>-9.23</td>\n",
       "      <td>0.0</td>\n",
       "      <td>-0.84</td>\n",
       "      <td>23.80</td>\n",
       "      <td>0.0</td>\n",
       "      <td>NaN</td>\n",
       "      <td>...</td>\n",
       "      <td>-0.5</td>\n",
       "      <td>0.321429</td>\n",
       "      <td>0.594404</td>\n",
       "      <td>Home</td>\n",
       "      <td>NaN</td>\n",
       "      <td>NaN</td>\n",
       "      <td>NaN</td>\n",
       "      <td>10</td>\n",
       "      <td>21</td>\n",
       "      <td>Pass</td>\n",
       "    </tr>\n",
       "  </tbody>\n",
       "</table>\n",
       "<p>6 rows × 187 columns</p>\n",
       "</div>"
      ],
      "text/plain": [
       "          home_3_x  home_3_y  home_3_z  home_7_x  home_7_y  home_7_z  \\\n",
       "frameIdx                                                               \n",
       "0              NaN       NaN       NaN      0.99     -9.30       0.0   \n",
       "1              NaN       NaN       NaN      0.99     -9.29       0.0   \n",
       "2              NaN       NaN       NaN      0.99     -9.27       0.0   \n",
       "3              NaN       NaN       NaN      1.00     -9.26       0.0   \n",
       "4              NaN       NaN       NaN      1.00     -9.25       0.0   \n",
       "5              NaN       NaN       NaN      1.00     -9.23       0.0   \n",
       "\n",
       "          home_9_x  home_9_y  home_9_z  home_11_x  ...  away_8_vx  away_8_vy  \\\n",
       "frameIdx                                           ...                         \n",
       "0            -0.42     23.78       0.0        NaN  ...        NaN        NaN   \n",
       "1            -0.48     23.79       0.0        NaN  ...        NaN        NaN   \n",
       "2            -0.56     23.79       0.0        NaN  ...        NaN        NaN   \n",
       "3            -0.64     23.80       0.0        NaN  ...        NaN        NaN   \n",
       "4            -0.74     23.80       0.0        NaN  ...       -0.5   0.357143   \n",
       "5            -0.84     23.80       0.0        NaN  ...       -0.5   0.321429   \n",
       "\n",
       "          away_8_speed  Team  Labels  End_X  End_Y  From  To  Event_Type  \n",
       "frameIdx                                                                  \n",
       "0                  NaN  Home     NaN    NaN    NaN    10  21        Pass  \n",
       "1                  NaN  Home     NaN    NaN    NaN    10  21        Pass  \n",
       "2                  NaN  Home     NaN    NaN    NaN    10  21        Pass  \n",
       "3                  NaN  Home     NaN    NaN    NaN    10  21        Pass  \n",
       "4             0.614452  Home     NaN    NaN    NaN    10  21        Pass  \n",
       "5             0.594404  Home     NaN    NaN    NaN    10  21        Pass  \n",
       "\n",
       "[6 rows x 187 columns]"
      ]
     },
     "execution_count": 64,
     "metadata": {},
     "output_type": "execute_result"
    }
   ],
   "source": [
    "label_events(tracking_all,0,5,['10'],['21'],['Pass'])"
   ]
  },
  {
   "cell_type": "code",
   "execution_count": null,
   "metadata": {},
   "outputs": [],
   "source": []
  },
  {
   "cell_type": "code",
   "execution_count": null,
   "metadata": {},
   "outputs": [],
   "source": []
  },
  {
   "cell_type": "code",
   "execution_count": null,
   "metadata": {},
   "outputs": [],
   "source": []
  },
  {
   "cell_type": "code",
   "execution_count": null,
   "metadata": {},
   "outputs": [],
   "source": []
  },
  {
   "cell_type": "markdown",
   "metadata": {},
   "source": [
    "## This is misleading because much of the subtype column is null. NOW need to fill those null values."
   ]
  },
  {
   "cell_type": "markdown",
   "metadata": {},
   "source": [
    "# Remove columns that don't matter or are obviously correlated\n",
    "- Time"
   ]
  },
  {
   "cell_type": "code",
   "execution_count": null,
   "metadata": {},
   "outputs": [],
   "source": [
    "num_scaled = StandardScaler().fit_transform(X_num)"
   ]
  },
  {
   "cell_type": "code",
   "execution_count": null,
   "metadata": {},
   "outputs": [],
   "source": [
    "###### SPLIT DATA #######\n",
    "# Import train_test_split function\n",
    "from sklearn.model_selection import train_test_split\n",
    "\n",
    "# Split dataset into training set and test set\n",
    "X_train, X_test, y_train, y_test = train_test_split(X, y, test_size=0.3,random_state=0) # 70% training and 30% test"
   ]
  },
  {
   "cell_type": "code",
   "execution_count": null,
   "metadata": {},
   "outputs": [],
   "source": []
  },
  {
   "cell_type": "code",
   "execution_count": null,
   "metadata": {},
   "outputs": [],
   "source": []
  }
 ],
 "metadata": {
  "kernelspec": {
   "display_name": "bootcamp_env",
   "language": "python",
   "name": "bootcamp_env"
  },
  "language_info": {
   "codemirror_mode": {
    "name": "ipython",
    "version": 3
   },
   "file_extension": ".py",
   "mimetype": "text/x-python",
   "name": "python",
   "nbconvert_exporter": "python",
   "pygments_lexer": "ipython3",
   "version": "3.7.6"
  }
 },
 "nbformat": 4,
 "nbformat_minor": 4
}
